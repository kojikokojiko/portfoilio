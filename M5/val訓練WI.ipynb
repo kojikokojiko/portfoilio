{
  "nbformat": 4,
  "nbformat_minor": 0,
  "metadata": {
    "colab": {
      "name": "val訓練WI",
      "provenance": [],
      "include_colab_link": true
    },
    "kernelspec": {
      "name": "python3",
      "display_name": "Python 3"
    }
  },
  "cells": [
    {
      "cell_type": "markdown",
      "metadata": {
        "id": "view-in-github",
        "colab_type": "text"
      },
      "source": [
        "<a href=\"https://colab.research.google.com/github/kojikokojiko/portfoilio/blob/master/M5/val%E8%A8%93%E7%B7%B4WI.ipynb\" target=\"_parent\"><img src=\"https://colab.research.google.com/assets/colab-badge.svg\" alt=\"Open In Colab\"/></a>"
      ]
    },
    {
      "cell_type": "code",
      "metadata": {
        "id": "WSDzRMiAsg4g",
        "colab_type": "code",
        "colab": {}
      },
      "source": [
        "# light gbmのGPU版を生成するコード　使わないでい\n",
        "# !git clone --recursive https://github.com/Microsoft/LightGBM\n",
        "# %cd /content/LightGBM/\n",
        "# !mkdir build\n",
        "# !cmake -DUSE_GPU=1 #avoid ..\n",
        "# !make -j$(nproc)\n",
        "# !sudo apt-get -y install python-pip\n",
        "# !sudo -H pip install setuptools pandas numpy scipy scikit-learn -U\n",
        "# %cd /content/LightGBM/python-package\n",
        "# !sudo python setup.py install --precompile"
      ],
      "execution_count": 0,
      "outputs": []
    },
    {
      "cell_type": "code",
      "metadata": {
        "id": "VBWPm_4R4jcK",
        "colab_type": "code",
        "outputId": "2fb2cbc1-09be-4508-f7b0-3c9766ad78d0",
        "colab": {
          "base_uri": "https://localhost:8080/",
          "height": 35
        }
      },
      "source": [
        "from google.colab import drive\n",
        "drive.mount('/content/drive')"
      ],
      "execution_count": 0,
      "outputs": [
        {
          "output_type": "stream",
          "text": [
            "Drive already mounted at /content/drive; to attempt to forcibly remount, call drive.mount(\"/content/drive\", force_remount=True).\n"
          ],
          "name": "stdout"
        }
      ]
    },
    {
      "cell_type": "code",
      "metadata": {
        "id": "N779sasWsMBr",
        "colab_type": "code",
        "outputId": "24f88509-0bfb-4dd2-822a-b3f5a8b3a914",
        "colab": {
          "base_uri": "https://localhost:8080/",
          "height": 35
        }
      },
      "source": [
        "\n",
        "\n",
        "!ls"
      ],
      "execution_count": 0,
      "outputs": [
        {
          "output_type": "stream",
          "text": [
            "drive  sample_data\n"
          ],
          "name": "stdout"
        }
      ]
    },
    {
      "cell_type": "code",
      "metadata": {
        "id": "H-AMhFQisL4i",
        "colab_type": "code",
        "colab": {}
      },
      "source": [
        "\n"
      ],
      "execution_count": 0,
      "outputs": []
    },
    {
      "cell_type": "code",
      "metadata": {
        "id": "l9MGF7IXsx2m",
        "colab_type": "code",
        "outputId": "28de8ff7-c642-4dde-b150-3256983a8268",
        "colab": {
          "base_uri": "https://localhost:8080/",
          "height": 35
        }
      },
      "source": [
        "\n",
        "%cd /content/drive/My Drive/kaggle/M5/iwase"
      ],
      "execution_count": 0,
      "outputs": [
        {
          "output_type": "stream",
          "text": [
            "/content/drive/.shortcut-targets-by-id/18e73-MFsSq-bfNImjjh-axhWYXPQE-7c/kaggle/M5/iwase\n"
          ],
          "name": "stdout"
        }
      ]
    },
    {
      "cell_type": "code",
      "metadata": {
        "id": "LSWpuqyQs1iq",
        "colab_type": "code",
        "colab": {}
      },
      "source": [
        "import  lightgbm as lgb\n",
        "import numpy as np\n",
        "import pandas as pd\n",
        "import os, sys, gc, time, warnings, pickle, psutil, random"
      ],
      "execution_count": 0,
      "outputs": []
    },
    {
      "cell_type": "code",
      "metadata": {
        "id": "j8kYfnXWG2cG",
        "colab_type": "code",
        "colab": {}
      },
      "source": [
        "\n",
        "\n",
        "\n",
        "# weights = pd.read_pickle('./c_weight.pickle')\n",
        "# weight1 = weights[weights.index ==0]\n",
        "# weight2 = weights[weights.index ==1]\n",
        "# weight1=weight1.values\n",
        "# weight2=weight2.values"
      ],
      "execution_count": 0,
      "outputs": []
    },
    {
      "cell_type": "code",
      "metadata": {
        "id": "RSK-bVLq8icD",
        "colab_type": "code",
        "colab": {}
      },
      "source": [
        "\n",
        "\n",
        "# NUM_ITEMS = 30490\n",
        "# DAYS_PRED = 28\n",
        "# def wrmsse(preds, data):\n",
        "    \n",
        "#     # this function is calculate for last 28 days to consider the non-zero demand period\n",
        "    \n",
        "#     # actual obserbed values / 正解ラベル\n",
        "#     y_true = data.get_label()\n",
        "    \n",
        "#     y_true = y_true[-(NUM_ITEMS * DAYS_PRED):]\n",
        "#     preds = preds[-(NUM_ITEMS * DAYS_PRED):]\n",
        "#     # number of columns\n",
        "#     num_col = DAYS_PRED\n",
        "    \n",
        "#     # reshape data to original array((NUM_ITEMS*num_col,1)->(NUM_ITEMS, num_col) ) / 推論の結果が 1 次元の配列になっているので直す\n",
        "#     reshaped_preds = preds.reshape(num_col, NUM_ITEMS).T\n",
        "#     reshaped_true = y_true.reshape(num_col, NUM_ITEMS).T\n",
        "    \n",
        "          \n",
        "#     train = weight_mat_csr*np.c_[reshaped_preds, reshaped_true]\n",
        "    \n",
        "#     score = np.sum(\n",
        "#                 np.sqrt(\n",
        "#                     np.mean(\n",
        "#                         np.square(\n",
        "#                             train[:,:num_col] - train[:,num_col:])\n",
        "#                         ,axis=1) / weight1) * weight2)\n",
        "    \n",
        "#     return 'wrmsse', score, False"
      ],
      "execution_count": 0,
      "outputs": []
    },
    {
      "cell_type": "code",
      "metadata": {
        "id": "2X9Pw3Jrs6gg",
        "colab_type": "code",
        "colab": {}
      },
      "source": [
        "def seed_everything(seed=0):\n",
        "    # random.seed(seed)\n",
        "    np.random.seed(seed)"
      ],
      "execution_count": 0,
      "outputs": []
    },
    {
      "cell_type": "code",
      "metadata": {
        "id": "3veLVpF6s_UU",
        "colab_type": "code",
        "colab": {}
      },
      "source": [
        "#LIMITS and const\n",
        "TARGET      = 'sales'            # Our target\n",
        "START_TRAIN = 0                  # We can skip some rows (Nans/faster training)\n",
        "END_TRAIN   = 1913              # End day of our train set\n",
        "P_HORIZON   = 28                 # Prediction horizon"
      ],
      "execution_count": 0,
      "outputs": []
    },
    {
      "cell_type": "code",
      "metadata": {
        "id": "hyUFkp4MtChN",
        "colab_type": "code",
        "colab": {}
      },
      "source": [
        "remove_features = [\n",
        "                  #  デフォルト\n",
        "                   'id',\n",
        "                   'state_id',\n",
        "                   'store_id',\n",
        "                   'date',\n",
        "                   'wm_yr_wk',\n",
        "                   'd',\n",
        "                   TARGET,\n",
        "\n",
        "                  #  随時追加\n",
        "                  'sales_lag_tmp_1',\n",
        "                  'sales_lag_tmp_7',\n",
        "                   \n",
        "                   \n",
        "\n",
        "\n",
        "\n",
        "\n",
        "                   \n",
        "\n",
        "                   ]"
      ],
      "execution_count": 0,
      "outputs": []
    },
    {
      "cell_type": "code",
      "metadata": {
        "id": "CgeZUdYB4s_w",
        "colab_type": "code",
        "colab": {}
      },
      "source": [
        "# ここで、学習するストアを選択\n",
        "# 学習しないものはCtr/でメモに\n",
        "\n",
        "STORE_IDS=[\n",
        "#  'CA_1',\n",
        "#  'CA_2',\n",
        "#  'CA_3',\n",
        "#  'CA_4',\n",
        "#  'TX_1',\n",
        "#  'TX_2',\n",
        "#  'TX_3',\n",
        " 'WI_1',\n",
        " 'WI_2',\n",
        " 'WI_3'\n",
        "]"
      ],
      "execution_count": 0,
      "outputs": []
    },
    {
      "cell_type": "markdown",
      "metadata": {
        "id": "81SOfdbQu4KM",
        "colab_type": "text"
      },
      "source": [
        "# ここ変えるの忘れない！！！！"
      ]
    },
    {
      "cell_type": "code",
      "metadata": {
        "id": "bbwfpYWx4wB3",
        "colab_type": "code",
        "colab": {}
      },
      "source": [
        "# ハイパラ、特徴量をいじったらVERを更新\n",
        "VER=4"
      ],
      "execution_count": 0,
      "outputs": []
    },
    {
      "cell_type": "code",
      "metadata": {
        "id": "0lhUHaVTs37S",
        "colab_type": "code",
        "colab": {}
      },
      "source": [
        "import lightgbm as lgb\n",
        "lgb_params = {\n",
        "                    'boosting_type': 'gbdt',\n",
        "                    'objective': 'tweedie',\n",
        "                    'tweedie_variance_power': 1.1,\n",
        "                    # 'metric': 'custom',\n",
        "                    'metric':'rmse',\n",
        "                    'subsample': 0.5,\n",
        "                    'subsample_freq': 1,\n",
        "                    'learning_rate': 0.03,\n",
        "                    'num_leaves': 2**11-1,\n",
        "                    'min_data_in_leaf': 2**12-1,\n",
        "                    'feature_fraction': 0.5,\n",
        "                    'max_bin': 100,\n",
        "                    'n_estimators': 1400,\n",
        "                    'boost_from_average': False,\n",
        "                    'verbose': 1,\n",
        "\n",
        "                } "
      ],
      "execution_count": 0,
      "outputs": []
    },
    {
      "cell_type": "code",
      "metadata": {
        "id": "Ksm4jWres8xv",
        "colab_type": "code",
        "colab": {}
      },
      "source": [
        "#################\n",
        "SEED = 42                        # We want all things\n",
        "seed_everything(SEED)            # to be as deterministic \n",
        "lgb_params['seed'] = SEED        # as possible"
      ],
      "execution_count": 0,
      "outputs": []
    },
    {
      "cell_type": "code",
      "metadata": {
        "id": "z32oRyzY4xZ3",
        "colab_type": "code",
        "outputId": "c5acec87-7604-4ddf-d44e-7b91529394f0",
        "colab": {
          "base_uri": "https://localhost:8080/",
          "height": 1000
        }
      },
      "source": [
        "# for i in range(1,29):\n",
        "for store in STORE_IDS:\n",
        "  print(store)\n",
        "  grid_df=pd.merge(pd.read_pickle('../iwase_output/val/val_'+store+'.pkl'),\n",
        "                   pd.read_pickle('../iwase_output/val/val_lag_'+store+'.pkl'),\n",
        "                   how='left',\n",
        "                   on=['d','id','sales']\n",
        "                   )\n",
        "    \n",
        "  print('loaded')\n",
        "   # dを数字にする式\n",
        "  grid_df['d'] = grid_df['d'].apply(lambda x: x[2:]).astype(np.int16)\n",
        "   # 訓練、検証、テストのマスクを作成\n",
        "  train_mask = grid_df['d']<=END_TRAIN\n",
        "  valid_mask = train_mask&(grid_df['d']>(END_TRAIN-P_HORIZON))\n",
        "  preds_mask = grid_df['d']>(END_TRAIN-100)\n",
        "\n",
        "  features_columns = [col for col in list(grid_df) if col not in remove_features]\n",
        "\n",
        "  train_data = lgb.Dataset(grid_df[train_mask][features_columns], label=grid_df[train_mask][TARGET])\n",
        "  valid_data = lgb.Dataset(grid_df[valid_mask][features_columns], label=grid_df[valid_mask][TARGET])\n",
        "  \n",
        "  grid_df = grid_df[preds_mask].reset_index(drop=True)\n",
        "  keep_cols = [col for col in list(grid_df) if '_tmp_' not in col]\n",
        "  grid_df = grid_df[keep_cols]\n",
        "  grid_df.to_pickle('../testpkl/val/ver'+str(VER)+'/val_test_v'+str(VER)+store+'.pkl')\n",
        "  print('to_pickle　完了')\n",
        "\n",
        "  del grid_df\n",
        "  gc.collect()\n",
        "  seed_everything(SEED)\n",
        "\n",
        "  print('train_start')\n",
        "  estimator = lgb.train(lgb_params,\n",
        "                        train_data,\n",
        "                        valid_sets = [train_data,valid_data],\n",
        "                        verbose_eval = 100,\n",
        "                        early_stopping_rounds = 50,\n",
        "                        # feval= wrmsse,\n",
        "                        )\n",
        "    \n",
        "  print('train_finished')\n",
        "  model_name = '../model/val/ver'+str(VER)+'/val_lgb_model_v'+str(VER)+'_'+store+'.bin' #変更点\n",
        "  pickle.dump(estimator, open(model_name, 'wb'))\n",
        "\n",
        "  del train_data, valid_data, estimator\n",
        "  gc.collect()"
      ],
      "execution_count": 0,
      "outputs": [
        {
          "output_type": "stream",
          "text": [
            "WI_1\n",
            "loaded\n",
            "to_pickle　完了\n",
            "train_start\n"
          ],
          "name": "stdout"
        },
        {
          "output_type": "stream",
          "text": [
            "/usr/local/lib/python3.6/dist-packages/lightgbm/engine.py:118: UserWarning: Found `n_estimators` in params. Will use it instead of argument\n",
            "  warnings.warn(\"Found `{}` in params. Will use it instead of argument\".format(alias))\n",
            "/usr/local/lib/python3.6/dist-packages/lightgbm/basic.py:762: UserWarning: categorical_feature in param dict is overridden.\n",
            "  warnings.warn('categorical_feature in param dict is overridden.')\n"
          ],
          "name": "stderr"
        },
        {
          "output_type": "stream",
          "text": [
            "Training until validation scores don't improve for 50 rounds.\n",
            "[100]\ttraining's rmse: 1.71251\tvalid_1's rmse: 1.59521\n",
            "[200]\ttraining's rmse: 1.67102\tvalid_1's rmse: 1.57801\n",
            "[300]\ttraining's rmse: 1.65526\tvalid_1's rmse: 1.57034\n",
            "[400]\ttraining's rmse: 1.6445\tvalid_1's rmse: 1.56453\n",
            "[500]\ttraining's rmse: 1.63585\tvalid_1's rmse: 1.55967\n",
            "[600]\ttraining's rmse: 1.62816\tvalid_1's rmse: 1.55517\n",
            "[700]\ttraining's rmse: 1.62144\tvalid_1's rmse: 1.55149\n",
            "[800]\ttraining's rmse: 1.61508\tvalid_1's rmse: 1.54744\n",
            "[900]\ttraining's rmse: 1.60909\tvalid_1's rmse: 1.5441\n",
            "[1000]\ttraining's rmse: 1.60406\tvalid_1's rmse: 1.54042\n",
            "[1100]\ttraining's rmse: 1.59897\tvalid_1's rmse: 1.5373\n",
            "[1200]\ttraining's rmse: 1.59428\tvalid_1's rmse: 1.53426\n",
            "[1300]\ttraining's rmse: 1.58979\tvalid_1's rmse: 1.5309\n",
            "[1400]\ttraining's rmse: 1.58515\tvalid_1's rmse: 1.52801\n",
            "Did not meet early stopping. Best iteration is:\n",
            "[1400]\ttraining's rmse: 1.58515\tvalid_1's rmse: 1.52801\n",
            "train_finished\n",
            "WI_2\n",
            "loaded\n",
            "to_pickle　完了\n",
            "train_start\n"
          ],
          "name": "stdout"
        },
        {
          "output_type": "stream",
          "text": [
            "/usr/local/lib/python3.6/dist-packages/lightgbm/engine.py:118: UserWarning: Found `n_estimators` in params. Will use it instead of argument\n",
            "  warnings.warn(\"Found `{}` in params. Will use it instead of argument\".format(alias))\n",
            "/usr/local/lib/python3.6/dist-packages/lightgbm/basic.py:762: UserWarning: categorical_feature in param dict is overridden.\n",
            "  warnings.warn('categorical_feature in param dict is overridden.')\n"
          ],
          "name": "stderr"
        },
        {
          "output_type": "stream",
          "text": [
            "Training until validation scores don't improve for 50 rounds.\n",
            "[100]\ttraining's rmse: 2.67788\tvalid_1's rmse: 2.70272\n",
            "[200]\ttraining's rmse: 2.61435\tvalid_1's rmse: 2.59834\n",
            "[300]\ttraining's rmse: 2.58627\tvalid_1's rmse: 2.56391\n",
            "[400]\ttraining's rmse: 2.56687\tvalid_1's rmse: 2.54146\n",
            "[500]\ttraining's rmse: 2.54994\tvalid_1's rmse: 2.52449\n",
            "[600]\ttraining's rmse: 2.53536\tvalid_1's rmse: 2.50716\n",
            "[700]\ttraining's rmse: 2.52181\tvalid_1's rmse: 2.49551\n",
            "[800]\ttraining's rmse: 2.50914\tvalid_1's rmse: 2.48313\n",
            "[900]\ttraining's rmse: 2.49805\tvalid_1's rmse: 2.47226\n",
            "[1000]\ttraining's rmse: 2.48694\tvalid_1's rmse: 2.45991\n",
            "[1100]\ttraining's rmse: 2.47673\tvalid_1's rmse: 2.44814\n",
            "[1200]\ttraining's rmse: 2.46711\tvalid_1's rmse: 2.43719\n",
            "[1300]\ttraining's rmse: 2.45707\tvalid_1's rmse: 2.42922\n",
            "[1400]\ttraining's rmse: 2.44749\tvalid_1's rmse: 2.42148\n",
            "Did not meet early stopping. Best iteration is:\n",
            "[1400]\ttraining's rmse: 2.44749\tvalid_1's rmse: 2.42148\n",
            "train_finished\n",
            "WI_3\n",
            "loaded\n",
            "to_pickle　完了\n",
            "train_start\n"
          ],
          "name": "stdout"
        },
        {
          "output_type": "stream",
          "text": [
            "/usr/local/lib/python3.6/dist-packages/lightgbm/engine.py:118: UserWarning: Found `n_estimators` in params. Will use it instead of argument\n",
            "  warnings.warn(\"Found `{}` in params. Will use it instead of argument\".format(alias))\n",
            "/usr/local/lib/python3.6/dist-packages/lightgbm/basic.py:762: UserWarning: categorical_feature in param dict is overridden.\n",
            "  warnings.warn('categorical_feature in param dict is overridden.')\n"
          ],
          "name": "stderr"
        },
        {
          "output_type": "stream",
          "text": [
            "Training until validation scores don't improve for 50 rounds.\n",
            "[100]\ttraining's rmse: 2.43619\tvalid_1's rmse: 1.9232\n",
            "[200]\ttraining's rmse: 2.32382\tvalid_1's rmse: 1.84951\n",
            "[300]\ttraining's rmse: 2.28052\tvalid_1's rmse: 1.82617\n",
            "[400]\ttraining's rmse: 2.25292\tvalid_1's rmse: 1.81222\n",
            "[500]\ttraining's rmse: 2.23081\tvalid_1's rmse: 1.80505\n",
            "[600]\ttraining's rmse: 2.21268\tvalid_1's rmse: 1.7986\n",
            "[700]\ttraining's rmse: 2.19776\tvalid_1's rmse: 1.7922\n",
            "[800]\ttraining's rmse: 2.18345\tvalid_1's rmse: 1.7865\n",
            "[900]\ttraining's rmse: 2.17139\tvalid_1's rmse: 1.78275\n",
            "[1000]\ttraining's rmse: 2.16013\tvalid_1's rmse: 1.77756\n",
            "[1100]\ttraining's rmse: 2.15057\tvalid_1's rmse: 1.77402\n",
            "[1200]\ttraining's rmse: 2.14101\tvalid_1's rmse: 1.77009\n",
            "[1300]\ttraining's rmse: 2.13177\tvalid_1's rmse: 1.76461\n",
            "[1400]\ttraining's rmse: 2.12257\tvalid_1's rmse: 1.76044\n",
            "Did not meet early stopping. Best iteration is:\n",
            "[1400]\ttraining's rmse: 2.12257\tvalid_1's rmse: 1.76044\n",
            "train_finished\n"
          ],
          "name": "stdout"
        }
      ]
    },
    {
      "cell_type": "code",
      "metadata": {
        "id": "RkEhKmrvFi3x",
        "colab_type": "code",
        "colab": {}
      },
      "source": [
        ""
      ],
      "execution_count": 0,
      "outputs": []
    }
  ]
}