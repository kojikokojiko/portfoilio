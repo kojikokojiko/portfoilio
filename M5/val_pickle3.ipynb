{
  "nbformat": 4,
  "nbformat_minor": 0,
  "metadata": {
    "colab": {
      "name": "val_pickle3 ",
      "provenance": [],
      "include_colab_link": true
    },
    "kernelspec": {
      "name": "python3",
      "display_name": "Python 3"
    }
  },
  "cells": [
    {
      "cell_type": "markdown",
      "metadata": {
        "id": "view-in-github",
        "colab_type": "text"
      },
      "source": [
        "<a href=\"https://colab.research.google.com/github/kojikokojiko/portfoilio/blob/master/M5/val_pickle3.ipynb\" target=\"_parent\"><img src=\"https://colab.research.google.com/assets/colab-badge.svg\" alt=\"Open In Colab\"/></a>"
      ]
    },
    {
      "cell_type": "code",
      "metadata": {
        "id": "lUvxt77A7ay8",
        "colab_type": "code",
        "outputId": "a254da4d-6ab8-41ec-edeb-f025a6544576",
        "colab": {
          "base_uri": "https://localhost:8080/",
          "height": 177
        }
      },
      "source": [
        "!ls"
      ],
      "execution_count": 0,
      "outputs": [
        {
          "output_type": "stream",
          "text": [
            " c_weight.pickle\t\t   'val_pickle3 '\n",
            "'lags features'\t\t\t    予測ノーマル\n",
            " pickle1.ipynb\t\t\t    予測CA　いわ\n",
            " pickle2.ipynb\t\t\t   '予測CA　いわ のコピー'\n",
            " pickle3.ipynb\t\t\t    予測.ipynb\n",
            " sample_submission変換\t\t   '予測TX ryushi'\n",
            " shop_id分け+mean_enc上書き.ipynb  '予測WI takemi'\n",
            "'val_pickle1 '\t\t\t    調整.ipynb\n",
            "'val_pickle2 '\n"
          ],
          "name": "stdout"
        }
      ]
    },
    {
      "cell_type": "code",
      "metadata": {
        "id": "TYPAFRnm7lgr",
        "colab_type": "code",
        "outputId": "5595fd1f-697a-41db-9179-c836d5fdf781",
        "colab": {
          "base_uri": "https://localhost:8080/",
          "height": 35
        }
      },
      "source": [
        "from google.colab import drive\n",
        "drive.mount('/content/drive')"
      ],
      "execution_count": 0,
      "outputs": [
        {
          "output_type": "stream",
          "text": [
            "Drive already mounted at /content/drive; to attempt to forcibly remount, call drive.mount(\"/content/drive\", force_remount=True).\n"
          ],
          "name": "stdout"
        }
      ]
    },
    {
      "cell_type": "code",
      "metadata": {
        "id": "_AjWfR547mJ2",
        "colab_type": "code",
        "outputId": "1ae156ab-eadb-476b-c5be-d33e956cfbd4",
        "colab": {
          "base_uri": "https://localhost:8080/",
          "height": 35
        }
      },
      "source": [
        "%cd /content/drive/My Drive/kaggle/M5/iwase"
      ],
      "execution_count": 0,
      "outputs": [
        {
          "output_type": "stream",
          "text": [
            "/content/drive/.shortcut-targets-by-id/18e73-MFsSq-bfNImjjh-axhWYXPQE-7c/kaggle/M5/iwase\n"
          ],
          "name": "stdout"
        }
      ]
    },
    {
      "cell_type": "code",
      "metadata": {
        "id": "LdIBfQ6I9vS8",
        "colab_type": "code",
        "colab": {}
      },
      "source": [
        "\n",
        "# General imports\n",
        "import numpy as np\n",
        "import pandas as pd\n",
        "import os, sys, gc, time, warnings, pickle, psutil, random\n",
        "\n",
        "from math import ceil\n",
        "\n",
        "from sklearn.preprocessing import LabelEncoder\n",
        "\n",
        "warnings.filterwarnings('ignore')"
      ],
      "execution_count": 0,
      "outputs": []
    },
    {
      "cell_type": "code",
      "metadata": {
        "id": "naSCGTl87tWn",
        "colab_type": "code",
        "colab": {}
      },
      "source": [
        "grid_df=pd.read_pickle('../iwase_output/val/val_grid_part_1.pkl')"
      ],
      "execution_count": 0,
      "outputs": []
    },
    {
      "cell_type": "code",
      "metadata": {
        "id": "A_jPpp539p1u",
        "colab_type": "code",
        "colab": {}
      },
      "source": [
        "# prices_df = pd.read_csv('../input/m5-forecasting-accuracy/sell_prices.csv')\n",
        "calendar_df = pd.read_csv('../input/calendar.csv')"
      ],
      "execution_count": 0,
      "outputs": []
    },
    {
      "cell_type": "code",
      "metadata": {
        "id": "b0rpA8Ic99pt",
        "colab_type": "code",
        "outputId": "8e43fb53-48b5-496b-c7e5-c83002b0fdd5",
        "colab": {
          "base_uri": "https://localhost:8080/",
          "height": 399
        }
      },
      "source": [
        "calendar_df"
      ],
      "execution_count": 0,
      "outputs": [
        {
          "output_type": "execute_result",
          "data": {
            "text/html": [
              "<div>\n",
              "<style scoped>\n",
              "    .dataframe tbody tr th:only-of-type {\n",
              "        vertical-align: middle;\n",
              "    }\n",
              "\n",
              "    .dataframe tbody tr th {\n",
              "        vertical-align: top;\n",
              "    }\n",
              "\n",
              "    .dataframe thead th {\n",
              "        text-align: right;\n",
              "    }\n",
              "</style>\n",
              "<table border=\"1\" class=\"dataframe\">\n",
              "  <thead>\n",
              "    <tr style=\"text-align: right;\">\n",
              "      <th></th>\n",
              "      <th>date</th>\n",
              "      <th>wm_yr_wk</th>\n",
              "      <th>weekday</th>\n",
              "      <th>wday</th>\n",
              "      <th>month</th>\n",
              "      <th>year</th>\n",
              "      <th>d</th>\n",
              "      <th>event_name_1</th>\n",
              "      <th>event_type_1</th>\n",
              "      <th>event_name_2</th>\n",
              "      <th>event_type_2</th>\n",
              "      <th>snap_CA</th>\n",
              "      <th>snap_TX</th>\n",
              "      <th>snap_WI</th>\n",
              "    </tr>\n",
              "  </thead>\n",
              "  <tbody>\n",
              "    <tr>\n",
              "      <th>0</th>\n",
              "      <td>2011-01-29</td>\n",
              "      <td>11101</td>\n",
              "      <td>Saturday</td>\n",
              "      <td>1</td>\n",
              "      <td>1</td>\n",
              "      <td>2011</td>\n",
              "      <td>d_1</td>\n",
              "      <td>NaN</td>\n",
              "      <td>NaN</td>\n",
              "      <td>NaN</td>\n",
              "      <td>NaN</td>\n",
              "      <td>0</td>\n",
              "      <td>0</td>\n",
              "      <td>0</td>\n",
              "    </tr>\n",
              "    <tr>\n",
              "      <th>1</th>\n",
              "      <td>2011-01-30</td>\n",
              "      <td>11101</td>\n",
              "      <td>Sunday</td>\n",
              "      <td>2</td>\n",
              "      <td>1</td>\n",
              "      <td>2011</td>\n",
              "      <td>d_2</td>\n",
              "      <td>NaN</td>\n",
              "      <td>NaN</td>\n",
              "      <td>NaN</td>\n",
              "      <td>NaN</td>\n",
              "      <td>0</td>\n",
              "      <td>0</td>\n",
              "      <td>0</td>\n",
              "    </tr>\n",
              "    <tr>\n",
              "      <th>2</th>\n",
              "      <td>2011-01-31</td>\n",
              "      <td>11101</td>\n",
              "      <td>Monday</td>\n",
              "      <td>3</td>\n",
              "      <td>1</td>\n",
              "      <td>2011</td>\n",
              "      <td>d_3</td>\n",
              "      <td>NaN</td>\n",
              "      <td>NaN</td>\n",
              "      <td>NaN</td>\n",
              "      <td>NaN</td>\n",
              "      <td>0</td>\n",
              "      <td>0</td>\n",
              "      <td>0</td>\n",
              "    </tr>\n",
              "    <tr>\n",
              "      <th>3</th>\n",
              "      <td>2011-02-01</td>\n",
              "      <td>11101</td>\n",
              "      <td>Tuesday</td>\n",
              "      <td>4</td>\n",
              "      <td>2</td>\n",
              "      <td>2011</td>\n",
              "      <td>d_4</td>\n",
              "      <td>NaN</td>\n",
              "      <td>NaN</td>\n",
              "      <td>NaN</td>\n",
              "      <td>NaN</td>\n",
              "      <td>1</td>\n",
              "      <td>1</td>\n",
              "      <td>0</td>\n",
              "    </tr>\n",
              "    <tr>\n",
              "      <th>4</th>\n",
              "      <td>2011-02-02</td>\n",
              "      <td>11101</td>\n",
              "      <td>Wednesday</td>\n",
              "      <td>5</td>\n",
              "      <td>2</td>\n",
              "      <td>2011</td>\n",
              "      <td>d_5</td>\n",
              "      <td>NaN</td>\n",
              "      <td>NaN</td>\n",
              "      <td>NaN</td>\n",
              "      <td>NaN</td>\n",
              "      <td>1</td>\n",
              "      <td>0</td>\n",
              "      <td>1</td>\n",
              "    </tr>\n",
              "    <tr>\n",
              "      <th>...</th>\n",
              "      <td>...</td>\n",
              "      <td>...</td>\n",
              "      <td>...</td>\n",
              "      <td>...</td>\n",
              "      <td>...</td>\n",
              "      <td>...</td>\n",
              "      <td>...</td>\n",
              "      <td>...</td>\n",
              "      <td>...</td>\n",
              "      <td>...</td>\n",
              "      <td>...</td>\n",
              "      <td>...</td>\n",
              "      <td>...</td>\n",
              "      <td>...</td>\n",
              "    </tr>\n",
              "    <tr>\n",
              "      <th>1964</th>\n",
              "      <td>2016-06-15</td>\n",
              "      <td>11620</td>\n",
              "      <td>Wednesday</td>\n",
              "      <td>5</td>\n",
              "      <td>6</td>\n",
              "      <td>2016</td>\n",
              "      <td>d_1965</td>\n",
              "      <td>NaN</td>\n",
              "      <td>NaN</td>\n",
              "      <td>NaN</td>\n",
              "      <td>NaN</td>\n",
              "      <td>0</td>\n",
              "      <td>1</td>\n",
              "      <td>1</td>\n",
              "    </tr>\n",
              "    <tr>\n",
              "      <th>1965</th>\n",
              "      <td>2016-06-16</td>\n",
              "      <td>11620</td>\n",
              "      <td>Thursday</td>\n",
              "      <td>6</td>\n",
              "      <td>6</td>\n",
              "      <td>2016</td>\n",
              "      <td>d_1966</td>\n",
              "      <td>NaN</td>\n",
              "      <td>NaN</td>\n",
              "      <td>NaN</td>\n",
              "      <td>NaN</td>\n",
              "      <td>0</td>\n",
              "      <td>0</td>\n",
              "      <td>0</td>\n",
              "    </tr>\n",
              "    <tr>\n",
              "      <th>1966</th>\n",
              "      <td>2016-06-17</td>\n",
              "      <td>11620</td>\n",
              "      <td>Friday</td>\n",
              "      <td>7</td>\n",
              "      <td>6</td>\n",
              "      <td>2016</td>\n",
              "      <td>d_1967</td>\n",
              "      <td>NaN</td>\n",
              "      <td>NaN</td>\n",
              "      <td>NaN</td>\n",
              "      <td>NaN</td>\n",
              "      <td>0</td>\n",
              "      <td>0</td>\n",
              "      <td>0</td>\n",
              "    </tr>\n",
              "    <tr>\n",
              "      <th>1967</th>\n",
              "      <td>2016-06-18</td>\n",
              "      <td>11621</td>\n",
              "      <td>Saturday</td>\n",
              "      <td>1</td>\n",
              "      <td>6</td>\n",
              "      <td>2016</td>\n",
              "      <td>d_1968</td>\n",
              "      <td>NaN</td>\n",
              "      <td>NaN</td>\n",
              "      <td>NaN</td>\n",
              "      <td>NaN</td>\n",
              "      <td>0</td>\n",
              "      <td>0</td>\n",
              "      <td>0</td>\n",
              "    </tr>\n",
              "    <tr>\n",
              "      <th>1968</th>\n",
              "      <td>2016-06-19</td>\n",
              "      <td>11621</td>\n",
              "      <td>Sunday</td>\n",
              "      <td>2</td>\n",
              "      <td>6</td>\n",
              "      <td>2016</td>\n",
              "      <td>d_1969</td>\n",
              "      <td>NBAFinalsEnd</td>\n",
              "      <td>Sporting</td>\n",
              "      <td>Father's day</td>\n",
              "      <td>Cultural</td>\n",
              "      <td>0</td>\n",
              "      <td>0</td>\n",
              "      <td>0</td>\n",
              "    </tr>\n",
              "  </tbody>\n",
              "</table>\n",
              "<p>1969 rows × 14 columns</p>\n",
              "</div>"
            ],
            "text/plain": [
              "            date  wm_yr_wk    weekday  ...  snap_CA  snap_TX  snap_WI\n",
              "0     2011-01-29     11101   Saturday  ...        0        0        0\n",
              "1     2011-01-30     11101     Sunday  ...        0        0        0\n",
              "2     2011-01-31     11101     Monday  ...        0        0        0\n",
              "3     2011-02-01     11101    Tuesday  ...        1        1        0\n",
              "4     2011-02-02     11101  Wednesday  ...        1        0        1\n",
              "...          ...       ...        ...  ...      ...      ...      ...\n",
              "1964  2016-06-15     11620  Wednesday  ...        0        1        1\n",
              "1965  2016-06-16     11620   Thursday  ...        0        0        0\n",
              "1966  2016-06-17     11620     Friday  ...        0        0        0\n",
              "1967  2016-06-18     11621   Saturday  ...        0        0        0\n",
              "1968  2016-06-19     11621     Sunday  ...        0        0        0\n",
              "\n",
              "[1969 rows x 14 columns]"
            ]
          },
          "metadata": {
            "tags": []
          },
          "execution_count": 11
        }
      ]
    },
    {
      "cell_type": "code",
      "metadata": {
        "id": "Y7sIH8a1-iEr",
        "colab_type": "code",
        "colab": {}
      },
      "source": [
        "#################################################################################\n",
        "TARGET = 'sales'         # Our main target\n",
        "END_TRAIN = 1913        # Last day in train set\n",
        "MAIN_INDEX = ['id','d']  # We can identify item by these columns"
      ],
      "execution_count": 0,
      "outputs": []
    },
    {
      "cell_type": "code",
      "metadata": {
        "id": "qYxO76I7-AwL",
        "colab_type": "code",
        "colab": {}
      },
      "source": [
        "grid_df=grid_df[MAIN_INDEX]"
      ],
      "execution_count": 0,
      "outputs": []
    },
    {
      "cell_type": "code",
      "metadata": {
        "id": "a6RAzGV6-nUL",
        "colab_type": "code",
        "colab": {}
      },
      "source": [
        "icols = ['date',\n",
        "         'd',\n",
        "         'event_name_1',\n",
        "         'event_type_1',\n",
        "         'event_name_2',\n",
        "         'event_type_2',\n",
        "         'snap_CA',\n",
        "         'snap_TX',\n",
        "         'snap_WI']\n"
      ],
      "execution_count": 0,
      "outputs": []
    },
    {
      "cell_type": "code",
      "metadata": {
        "id": "MfMdGM_3-zrZ",
        "colab_type": "code",
        "colab": {}
      },
      "source": [
        "grid_df=grid_df.merge(calendar_df[icols],on='d',how='left')"
      ],
      "execution_count": 0,
      "outputs": []
    },
    {
      "cell_type": "code",
      "metadata": {
        "id": "JYhqA1_I_bsx",
        "colab_type": "code",
        "colab": {}
      },
      "source": [
        "icols = ['event_name_1',\n",
        "         'event_type_1',\n",
        "         'event_name_2',\n",
        "         'event_type_2',\n",
        "         'snap_CA',\n",
        "         'snap_TX',\n",
        "         'snap_WI']\n",
        "for col in icols:\n",
        "    grid_df[col] = grid_df[col].astype('category')"
      ],
      "execution_count": 0,
      "outputs": []
    },
    {
      "cell_type": "code",
      "metadata": {
        "id": "gmXy6FG0_gyv",
        "colab_type": "code",
        "colab": {}
      },
      "source": [
        "grid_df['date']=pd.to_datetime(grid_df['date'])"
      ],
      "execution_count": 0,
      "outputs": []
    },
    {
      "cell_type": "code",
      "metadata": {
        "id": "mXYdvzmj_vmD",
        "colab_type": "code",
        "colab": {}
      },
      "source": [
        "grid_df['tm_d'] = grid_df['date'].dt.day.astype(np.int8)\n",
        "grid_df['tm_w'] = grid_df['date'].dt.week.astype(np.int8)\n",
        "grid_df['tm_m'] = grid_df['date'].dt.month.astype(np.int8)\n",
        "grid_df['tm_y'] = grid_df['date'].dt.year\n",
        "grid_df['tm_y'] = (grid_df['tm_y'] - grid_df['tm_y'].min()).astype(np.int8)\n",
        "grid_df['tm_wm'] = grid_df['tm_d'].apply(lambda x: ceil(x/7)).astype(np.int8)\n",
        "\n",
        "grid_df['tm_dw'] = grid_df['date'].dt.dayofweek.astype(np.int8)\n",
        "grid_df['tm_w_end'] = (grid_df['tm_dw']>=5).astype(np.int8)"
      ],
      "execution_count": 0,
      "outputs": []
    },
    {
      "cell_type": "code",
      "metadata": {
        "id": "44OtsW0z__bG",
        "colab_type": "code",
        "colab": {}
      },
      "source": [
        "del grid_df['date']\n"
      ],
      "execution_count": 0,
      "outputs": []
    },
    {
      "cell_type": "code",
      "metadata": {
        "id": "mlFAV85HeGVo",
        "colab_type": "code",
        "colab": {}
      },
      "source": [
        "# grid_df=pd.read_pickle('../iwase_output/grid_part_3.pkl')"
      ],
      "execution_count": 0,
      "outputs": []
    },
    {
      "cell_type": "code",
      "metadata": {
        "id": "Nktgmh92eGi5",
        "colab_type": "code",
        "outputId": "630a5a85-c70a-4ffc-fc44-fef6c994d92e",
        "colab": {
          "base_uri": "https://localhost:8080/",
          "height": 426
        }
      },
      "source": [
        "grid_df.info()"
      ],
      "execution_count": 0,
      "outputs": [
        {
          "output_type": "stream",
          "text": [
            "<class 'pandas.core.frame.DataFrame'>\n",
            "Int64Index: 46881677 entries, 0 to 46881676\n",
            "Data columns (total 16 columns):\n",
            " #   Column        Dtype   \n",
            "---  ------        -----   \n",
            " 0   id            category\n",
            " 1   d             object  \n",
            " 2   event_name_1  category\n",
            " 3   event_type_1  category\n",
            " 4   event_name_2  category\n",
            " 5   event_type_2  category\n",
            " 6   snap_CA       category\n",
            " 7   snap_TX       category\n",
            " 8   snap_WI       category\n",
            " 9   tm_d          int8    \n",
            " 10  tm_w          int8    \n",
            " 11  tm_m          int8    \n",
            " 12  tm_y          int8    \n",
            " 13  tm_wm         int8    \n",
            " 14  tm_dw         int8    \n",
            " 15  tm_w_end      int8    \n",
            "dtypes: category(8), int8(7), object(1)\n",
            "memory usage: 1.4+ GB\n"
          ],
          "name": "stdout"
        }
      ]
    },
    {
      "cell_type": "code",
      "metadata": {
        "id": "tUU6zGp_Pprn",
        "colab_type": "code",
        "colab": {}
      },
      "source": [
        "encode_columns=[\"event_name_1\",\t\"event_type_1\",\t\"event_name_2\",\t\"event_type_2\"]"
      ],
      "execution_count": 0,
      "outputs": []
    },
    {
      "cell_type": "code",
      "metadata": {
        "id": "baSV-usEbyPy",
        "colab_type": "code",
        "outputId": "54d45163-7037-47f6-e7b2-73efc378f775",
        "colab": {
          "base_uri": "https://localhost:8080/",
          "height": 419
        }
      },
      "source": [
        "grid_df"
      ],
      "execution_count": 0,
      "outputs": [
        {
          "output_type": "execute_result",
          "data": {
            "text/html": [
              "<div>\n",
              "<style scoped>\n",
              "    .dataframe tbody tr th:only-of-type {\n",
              "        vertical-align: middle;\n",
              "    }\n",
              "\n",
              "    .dataframe tbody tr th {\n",
              "        vertical-align: top;\n",
              "    }\n",
              "\n",
              "    .dataframe thead th {\n",
              "        text-align: right;\n",
              "    }\n",
              "</style>\n",
              "<table border=\"1\" class=\"dataframe\">\n",
              "  <thead>\n",
              "    <tr style=\"text-align: right;\">\n",
              "      <th></th>\n",
              "      <th>id</th>\n",
              "      <th>d</th>\n",
              "      <th>event_name_1</th>\n",
              "      <th>event_type_1</th>\n",
              "      <th>event_name_2</th>\n",
              "      <th>event_type_2</th>\n",
              "      <th>snap_CA</th>\n",
              "      <th>snap_TX</th>\n",
              "      <th>snap_WI</th>\n",
              "      <th>tm_d</th>\n",
              "      <th>tm_w</th>\n",
              "      <th>tm_m</th>\n",
              "      <th>tm_y</th>\n",
              "      <th>tm_wm</th>\n",
              "      <th>tm_dw</th>\n",
              "      <th>tm_w_end</th>\n",
              "    </tr>\n",
              "  </thead>\n",
              "  <tbody>\n",
              "    <tr>\n",
              "      <th>0</th>\n",
              "      <td>HOBBIES_1_008_CA_1_validation</td>\n",
              "      <td>d_1</td>\n",
              "      <td>NaN</td>\n",
              "      <td>NaN</td>\n",
              "      <td>NaN</td>\n",
              "      <td>NaN</td>\n",
              "      <td>0</td>\n",
              "      <td>0</td>\n",
              "      <td>0</td>\n",
              "      <td>29</td>\n",
              "      <td>4</td>\n",
              "      <td>1</td>\n",
              "      <td>0</td>\n",
              "      <td>5</td>\n",
              "      <td>5</td>\n",
              "      <td>1</td>\n",
              "    </tr>\n",
              "    <tr>\n",
              "      <th>1</th>\n",
              "      <td>HOBBIES_1_009_CA_1_validation</td>\n",
              "      <td>d_1</td>\n",
              "      <td>NaN</td>\n",
              "      <td>NaN</td>\n",
              "      <td>NaN</td>\n",
              "      <td>NaN</td>\n",
              "      <td>0</td>\n",
              "      <td>0</td>\n",
              "      <td>0</td>\n",
              "      <td>29</td>\n",
              "      <td>4</td>\n",
              "      <td>1</td>\n",
              "      <td>0</td>\n",
              "      <td>5</td>\n",
              "      <td>5</td>\n",
              "      <td>1</td>\n",
              "    </tr>\n",
              "    <tr>\n",
              "      <th>2</th>\n",
              "      <td>HOBBIES_1_010_CA_1_validation</td>\n",
              "      <td>d_1</td>\n",
              "      <td>NaN</td>\n",
              "      <td>NaN</td>\n",
              "      <td>NaN</td>\n",
              "      <td>NaN</td>\n",
              "      <td>0</td>\n",
              "      <td>0</td>\n",
              "      <td>0</td>\n",
              "      <td>29</td>\n",
              "      <td>4</td>\n",
              "      <td>1</td>\n",
              "      <td>0</td>\n",
              "      <td>5</td>\n",
              "      <td>5</td>\n",
              "      <td>1</td>\n",
              "    </tr>\n",
              "    <tr>\n",
              "      <th>3</th>\n",
              "      <td>HOBBIES_1_012_CA_1_validation</td>\n",
              "      <td>d_1</td>\n",
              "      <td>NaN</td>\n",
              "      <td>NaN</td>\n",
              "      <td>NaN</td>\n",
              "      <td>NaN</td>\n",
              "      <td>0</td>\n",
              "      <td>0</td>\n",
              "      <td>0</td>\n",
              "      <td>29</td>\n",
              "      <td>4</td>\n",
              "      <td>1</td>\n",
              "      <td>0</td>\n",
              "      <td>5</td>\n",
              "      <td>5</td>\n",
              "      <td>1</td>\n",
              "    </tr>\n",
              "    <tr>\n",
              "      <th>4</th>\n",
              "      <td>HOBBIES_1_015_CA_1_validation</td>\n",
              "      <td>d_1</td>\n",
              "      <td>NaN</td>\n",
              "      <td>NaN</td>\n",
              "      <td>NaN</td>\n",
              "      <td>NaN</td>\n",
              "      <td>0</td>\n",
              "      <td>0</td>\n",
              "      <td>0</td>\n",
              "      <td>29</td>\n",
              "      <td>4</td>\n",
              "      <td>1</td>\n",
              "      <td>0</td>\n",
              "      <td>5</td>\n",
              "      <td>5</td>\n",
              "      <td>1</td>\n",
              "    </tr>\n",
              "    <tr>\n",
              "      <th>...</th>\n",
              "      <td>...</td>\n",
              "      <td>...</td>\n",
              "      <td>...</td>\n",
              "      <td>...</td>\n",
              "      <td>...</td>\n",
              "      <td>...</td>\n",
              "      <td>...</td>\n",
              "      <td>...</td>\n",
              "      <td>...</td>\n",
              "      <td>...</td>\n",
              "      <td>...</td>\n",
              "      <td>...</td>\n",
              "      <td>...</td>\n",
              "      <td>...</td>\n",
              "      <td>...</td>\n",
              "      <td>...</td>\n",
              "    </tr>\n",
              "    <tr>\n",
              "      <th>46881672</th>\n",
              "      <td>FOODS_3_823_WI_3_validation</td>\n",
              "      <td>d_1941</td>\n",
              "      <td>NaN</td>\n",
              "      <td>NaN</td>\n",
              "      <td>NaN</td>\n",
              "      <td>NaN</td>\n",
              "      <td>0</td>\n",
              "      <td>0</td>\n",
              "      <td>0</td>\n",
              "      <td>22</td>\n",
              "      <td>20</td>\n",
              "      <td>5</td>\n",
              "      <td>5</td>\n",
              "      <td>4</td>\n",
              "      <td>6</td>\n",
              "      <td>1</td>\n",
              "    </tr>\n",
              "    <tr>\n",
              "      <th>46881673</th>\n",
              "      <td>FOODS_3_824_WI_3_validation</td>\n",
              "      <td>d_1941</td>\n",
              "      <td>NaN</td>\n",
              "      <td>NaN</td>\n",
              "      <td>NaN</td>\n",
              "      <td>NaN</td>\n",
              "      <td>0</td>\n",
              "      <td>0</td>\n",
              "      <td>0</td>\n",
              "      <td>22</td>\n",
              "      <td>20</td>\n",
              "      <td>5</td>\n",
              "      <td>5</td>\n",
              "      <td>4</td>\n",
              "      <td>6</td>\n",
              "      <td>1</td>\n",
              "    </tr>\n",
              "    <tr>\n",
              "      <th>46881674</th>\n",
              "      <td>FOODS_3_825_WI_3_validation</td>\n",
              "      <td>d_1941</td>\n",
              "      <td>NaN</td>\n",
              "      <td>NaN</td>\n",
              "      <td>NaN</td>\n",
              "      <td>NaN</td>\n",
              "      <td>0</td>\n",
              "      <td>0</td>\n",
              "      <td>0</td>\n",
              "      <td>22</td>\n",
              "      <td>20</td>\n",
              "      <td>5</td>\n",
              "      <td>5</td>\n",
              "      <td>4</td>\n",
              "      <td>6</td>\n",
              "      <td>1</td>\n",
              "    </tr>\n",
              "    <tr>\n",
              "      <th>46881675</th>\n",
              "      <td>FOODS_3_826_WI_3_validation</td>\n",
              "      <td>d_1941</td>\n",
              "      <td>NaN</td>\n",
              "      <td>NaN</td>\n",
              "      <td>NaN</td>\n",
              "      <td>NaN</td>\n",
              "      <td>0</td>\n",
              "      <td>0</td>\n",
              "      <td>0</td>\n",
              "      <td>22</td>\n",
              "      <td>20</td>\n",
              "      <td>5</td>\n",
              "      <td>5</td>\n",
              "      <td>4</td>\n",
              "      <td>6</td>\n",
              "      <td>1</td>\n",
              "    </tr>\n",
              "    <tr>\n",
              "      <th>46881676</th>\n",
              "      <td>FOODS_3_827_WI_3_validation</td>\n",
              "      <td>d_1941</td>\n",
              "      <td>NaN</td>\n",
              "      <td>NaN</td>\n",
              "      <td>NaN</td>\n",
              "      <td>NaN</td>\n",
              "      <td>0</td>\n",
              "      <td>0</td>\n",
              "      <td>0</td>\n",
              "      <td>22</td>\n",
              "      <td>20</td>\n",
              "      <td>5</td>\n",
              "      <td>5</td>\n",
              "      <td>4</td>\n",
              "      <td>6</td>\n",
              "      <td>1</td>\n",
              "    </tr>\n",
              "  </tbody>\n",
              "</table>\n",
              "<p>46881677 rows × 16 columns</p>\n",
              "</div>"
            ],
            "text/plain": [
              "                                     id       d  ... tm_dw tm_w_end\n",
              "0         HOBBIES_1_008_CA_1_validation     d_1  ...     5        1\n",
              "1         HOBBIES_1_009_CA_1_validation     d_1  ...     5        1\n",
              "2         HOBBIES_1_010_CA_1_validation     d_1  ...     5        1\n",
              "3         HOBBIES_1_012_CA_1_validation     d_1  ...     5        1\n",
              "4         HOBBIES_1_015_CA_1_validation     d_1  ...     5        1\n",
              "...                                 ...     ...  ...   ...      ...\n",
              "46881672    FOODS_3_823_WI_3_validation  d_1941  ...     6        1\n",
              "46881673    FOODS_3_824_WI_3_validation  d_1941  ...     6        1\n",
              "46881674    FOODS_3_825_WI_3_validation  d_1941  ...     6        1\n",
              "46881675    FOODS_3_826_WI_3_validation  d_1941  ...     6        1\n",
              "46881676    FOODS_3_827_WI_3_validation  d_1941  ...     6        1\n",
              "\n",
              "[46881677 rows x 16 columns]"
            ]
          },
          "metadata": {
            "tags": []
          },
          "execution_count": 23
        }
      ]
    },
    {
      "cell_type": "code",
      "metadata": {
        "id": "yXACsJDoaQ2k",
        "colab_type": "code",
        "colab": {}
      },
      "source": [
        ""
      ],
      "execution_count": 0,
      "outputs": []
    },
    {
      "cell_type": "code",
      "metadata": {
        "id": "dTQo07HFcwR-",
        "colab_type": "code",
        "colab": {}
      },
      "source": [
        "for column in encode_columns:\n",
        "  grid_df[column]=grid_df[column].cat.add_categories('XXX').fillna('XXX')\n",
        "  "
      ],
      "execution_count": 0,
      "outputs": []
    },
    {
      "cell_type": "code",
      "metadata": {
        "id": "MVhMVBNWcS-D",
        "colab_type": "code",
        "outputId": "e835ebef-0f5c-4195-fbe3-92167ab70694",
        "colab": {
          "base_uri": "https://localhost:8080/",
          "height": 419
        }
      },
      "source": [
        "grid_df"
      ],
      "execution_count": 0,
      "outputs": [
        {
          "output_type": "execute_result",
          "data": {
            "text/html": [
              "<div>\n",
              "<style scoped>\n",
              "    .dataframe tbody tr th:only-of-type {\n",
              "        vertical-align: middle;\n",
              "    }\n",
              "\n",
              "    .dataframe tbody tr th {\n",
              "        vertical-align: top;\n",
              "    }\n",
              "\n",
              "    .dataframe thead th {\n",
              "        text-align: right;\n",
              "    }\n",
              "</style>\n",
              "<table border=\"1\" class=\"dataframe\">\n",
              "  <thead>\n",
              "    <tr style=\"text-align: right;\">\n",
              "      <th></th>\n",
              "      <th>id</th>\n",
              "      <th>d</th>\n",
              "      <th>event_name_1</th>\n",
              "      <th>event_type_1</th>\n",
              "      <th>event_name_2</th>\n",
              "      <th>event_type_2</th>\n",
              "      <th>snap_CA</th>\n",
              "      <th>snap_TX</th>\n",
              "      <th>snap_WI</th>\n",
              "      <th>tm_d</th>\n",
              "      <th>tm_w</th>\n",
              "      <th>tm_m</th>\n",
              "      <th>tm_y</th>\n",
              "      <th>tm_wm</th>\n",
              "      <th>tm_dw</th>\n",
              "      <th>tm_w_end</th>\n",
              "    </tr>\n",
              "  </thead>\n",
              "  <tbody>\n",
              "    <tr>\n",
              "      <th>0</th>\n",
              "      <td>HOBBIES_1_008_CA_1_validation</td>\n",
              "      <td>d_1</td>\n",
              "      <td>XXX</td>\n",
              "      <td>XXX</td>\n",
              "      <td>XXX</td>\n",
              "      <td>XXX</td>\n",
              "      <td>0</td>\n",
              "      <td>0</td>\n",
              "      <td>0</td>\n",
              "      <td>29</td>\n",
              "      <td>4</td>\n",
              "      <td>1</td>\n",
              "      <td>0</td>\n",
              "      <td>5</td>\n",
              "      <td>5</td>\n",
              "      <td>1</td>\n",
              "    </tr>\n",
              "    <tr>\n",
              "      <th>1</th>\n",
              "      <td>HOBBIES_1_009_CA_1_validation</td>\n",
              "      <td>d_1</td>\n",
              "      <td>XXX</td>\n",
              "      <td>XXX</td>\n",
              "      <td>XXX</td>\n",
              "      <td>XXX</td>\n",
              "      <td>0</td>\n",
              "      <td>0</td>\n",
              "      <td>0</td>\n",
              "      <td>29</td>\n",
              "      <td>4</td>\n",
              "      <td>1</td>\n",
              "      <td>0</td>\n",
              "      <td>5</td>\n",
              "      <td>5</td>\n",
              "      <td>1</td>\n",
              "    </tr>\n",
              "    <tr>\n",
              "      <th>2</th>\n",
              "      <td>HOBBIES_1_010_CA_1_validation</td>\n",
              "      <td>d_1</td>\n",
              "      <td>XXX</td>\n",
              "      <td>XXX</td>\n",
              "      <td>XXX</td>\n",
              "      <td>XXX</td>\n",
              "      <td>0</td>\n",
              "      <td>0</td>\n",
              "      <td>0</td>\n",
              "      <td>29</td>\n",
              "      <td>4</td>\n",
              "      <td>1</td>\n",
              "      <td>0</td>\n",
              "      <td>5</td>\n",
              "      <td>5</td>\n",
              "      <td>1</td>\n",
              "    </tr>\n",
              "    <tr>\n",
              "      <th>3</th>\n",
              "      <td>HOBBIES_1_012_CA_1_validation</td>\n",
              "      <td>d_1</td>\n",
              "      <td>XXX</td>\n",
              "      <td>XXX</td>\n",
              "      <td>XXX</td>\n",
              "      <td>XXX</td>\n",
              "      <td>0</td>\n",
              "      <td>0</td>\n",
              "      <td>0</td>\n",
              "      <td>29</td>\n",
              "      <td>4</td>\n",
              "      <td>1</td>\n",
              "      <td>0</td>\n",
              "      <td>5</td>\n",
              "      <td>5</td>\n",
              "      <td>1</td>\n",
              "    </tr>\n",
              "    <tr>\n",
              "      <th>4</th>\n",
              "      <td>HOBBIES_1_015_CA_1_validation</td>\n",
              "      <td>d_1</td>\n",
              "      <td>XXX</td>\n",
              "      <td>XXX</td>\n",
              "      <td>XXX</td>\n",
              "      <td>XXX</td>\n",
              "      <td>0</td>\n",
              "      <td>0</td>\n",
              "      <td>0</td>\n",
              "      <td>29</td>\n",
              "      <td>4</td>\n",
              "      <td>1</td>\n",
              "      <td>0</td>\n",
              "      <td>5</td>\n",
              "      <td>5</td>\n",
              "      <td>1</td>\n",
              "    </tr>\n",
              "    <tr>\n",
              "      <th>...</th>\n",
              "      <td>...</td>\n",
              "      <td>...</td>\n",
              "      <td>...</td>\n",
              "      <td>...</td>\n",
              "      <td>...</td>\n",
              "      <td>...</td>\n",
              "      <td>...</td>\n",
              "      <td>...</td>\n",
              "      <td>...</td>\n",
              "      <td>...</td>\n",
              "      <td>...</td>\n",
              "      <td>...</td>\n",
              "      <td>...</td>\n",
              "      <td>...</td>\n",
              "      <td>...</td>\n",
              "      <td>...</td>\n",
              "    </tr>\n",
              "    <tr>\n",
              "      <th>46881672</th>\n",
              "      <td>FOODS_3_823_WI_3_validation</td>\n",
              "      <td>d_1941</td>\n",
              "      <td>XXX</td>\n",
              "      <td>XXX</td>\n",
              "      <td>XXX</td>\n",
              "      <td>XXX</td>\n",
              "      <td>0</td>\n",
              "      <td>0</td>\n",
              "      <td>0</td>\n",
              "      <td>22</td>\n",
              "      <td>20</td>\n",
              "      <td>5</td>\n",
              "      <td>5</td>\n",
              "      <td>4</td>\n",
              "      <td>6</td>\n",
              "      <td>1</td>\n",
              "    </tr>\n",
              "    <tr>\n",
              "      <th>46881673</th>\n",
              "      <td>FOODS_3_824_WI_3_validation</td>\n",
              "      <td>d_1941</td>\n",
              "      <td>XXX</td>\n",
              "      <td>XXX</td>\n",
              "      <td>XXX</td>\n",
              "      <td>XXX</td>\n",
              "      <td>0</td>\n",
              "      <td>0</td>\n",
              "      <td>0</td>\n",
              "      <td>22</td>\n",
              "      <td>20</td>\n",
              "      <td>5</td>\n",
              "      <td>5</td>\n",
              "      <td>4</td>\n",
              "      <td>6</td>\n",
              "      <td>1</td>\n",
              "    </tr>\n",
              "    <tr>\n",
              "      <th>46881674</th>\n",
              "      <td>FOODS_3_825_WI_3_validation</td>\n",
              "      <td>d_1941</td>\n",
              "      <td>XXX</td>\n",
              "      <td>XXX</td>\n",
              "      <td>XXX</td>\n",
              "      <td>XXX</td>\n",
              "      <td>0</td>\n",
              "      <td>0</td>\n",
              "      <td>0</td>\n",
              "      <td>22</td>\n",
              "      <td>20</td>\n",
              "      <td>5</td>\n",
              "      <td>5</td>\n",
              "      <td>4</td>\n",
              "      <td>6</td>\n",
              "      <td>1</td>\n",
              "    </tr>\n",
              "    <tr>\n",
              "      <th>46881675</th>\n",
              "      <td>FOODS_3_826_WI_3_validation</td>\n",
              "      <td>d_1941</td>\n",
              "      <td>XXX</td>\n",
              "      <td>XXX</td>\n",
              "      <td>XXX</td>\n",
              "      <td>XXX</td>\n",
              "      <td>0</td>\n",
              "      <td>0</td>\n",
              "      <td>0</td>\n",
              "      <td>22</td>\n",
              "      <td>20</td>\n",
              "      <td>5</td>\n",
              "      <td>5</td>\n",
              "      <td>4</td>\n",
              "      <td>6</td>\n",
              "      <td>1</td>\n",
              "    </tr>\n",
              "    <tr>\n",
              "      <th>46881676</th>\n",
              "      <td>FOODS_3_827_WI_3_validation</td>\n",
              "      <td>d_1941</td>\n",
              "      <td>XXX</td>\n",
              "      <td>XXX</td>\n",
              "      <td>XXX</td>\n",
              "      <td>XXX</td>\n",
              "      <td>0</td>\n",
              "      <td>0</td>\n",
              "      <td>0</td>\n",
              "      <td>22</td>\n",
              "      <td>20</td>\n",
              "      <td>5</td>\n",
              "      <td>5</td>\n",
              "      <td>4</td>\n",
              "      <td>6</td>\n",
              "      <td>1</td>\n",
              "    </tr>\n",
              "  </tbody>\n",
              "</table>\n",
              "<p>46881677 rows × 16 columns</p>\n",
              "</div>"
            ],
            "text/plain": [
              "                                     id       d  ... tm_dw tm_w_end\n",
              "0         HOBBIES_1_008_CA_1_validation     d_1  ...     5        1\n",
              "1         HOBBIES_1_009_CA_1_validation     d_1  ...     5        1\n",
              "2         HOBBIES_1_010_CA_1_validation     d_1  ...     5        1\n",
              "3         HOBBIES_1_012_CA_1_validation     d_1  ...     5        1\n",
              "4         HOBBIES_1_015_CA_1_validation     d_1  ...     5        1\n",
              "...                                 ...     ...  ...   ...      ...\n",
              "46881672    FOODS_3_823_WI_3_validation  d_1941  ...     6        1\n",
              "46881673    FOODS_3_824_WI_3_validation  d_1941  ...     6        1\n",
              "46881674    FOODS_3_825_WI_3_validation  d_1941  ...     6        1\n",
              "46881675    FOODS_3_826_WI_3_validation  d_1941  ...     6        1\n",
              "46881676    FOODS_3_827_WI_3_validation  d_1941  ...     6        1\n",
              "\n",
              "[46881677 rows x 16 columns]"
            ]
          },
          "metadata": {
            "tags": []
          },
          "execution_count": 25
        }
      ]
    },
    {
      "cell_type": "code",
      "metadata": {
        "id": "bIGh4_VIPpqS",
        "colab_type": "code",
        "colab": {}
      },
      "source": [
        "for column in encode_columns:\n",
        "  le=LabelEncoder()\n",
        "  le.fit(grid_df[column])\n",
        "  grid_df[column]=le.transform(grid_df[column])\n",
        "  exec('encode_'+ column +'=le.classes_')\n",
        "\n"
      ],
      "execution_count": 0,
      "outputs": []
    },
    {
      "cell_type": "code",
      "metadata": {
        "id": "Z63j1KBKPpkR",
        "colab_type": "code",
        "outputId": "2978372b-fe95-4b9b-8b36-d16d70dc92ca",
        "colab": {
          "base_uri": "https://localhost:8080/",
          "height": 159
        }
      },
      "source": [
        "encode_event_name_1"
      ],
      "execution_count": 0,
      "outputs": [
        {
          "output_type": "execute_result",
          "data": {
            "text/plain": [
              "array(['Chanukah End', 'Christmas', 'Cinco De Mayo', 'ColumbusDay',\n",
              "       'Easter', 'Eid al-Fitr', 'EidAlAdha', \"Father's day\", 'Halloween',\n",
              "       'IndependenceDay', 'LaborDay', 'LentStart', 'LentWeek2',\n",
              "       'MartinLutherKingDay', 'MemorialDay', \"Mother's day\",\n",
              "       'NBAFinalsEnd', 'NBAFinalsStart', 'NewYear', 'OrthodoxChristmas',\n",
              "       'OrthodoxEaster', 'Pesach End', 'PresidentsDay', 'Purim End',\n",
              "       'Ramadan starts', 'StPatricksDay', 'SuperBowl', 'Thanksgiving',\n",
              "       'ValentinesDay', 'VeteransDay', 'XXX'], dtype=object)"
            ]
          },
          "metadata": {
            "tags": []
          },
          "execution_count": 27
        }
      ]
    },
    {
      "cell_type": "code",
      "metadata": {
        "id": "-kBeuIT7PpeU",
        "colab_type": "code",
        "outputId": "081cf2b0-1c34-4e6a-b000-7acb8fbadf34",
        "colab": {
          "base_uri": "https://localhost:8080/",
          "height": 52
        }
      },
      "source": [
        "encode_event_name_2"
      ],
      "execution_count": 0,
      "outputs": [
        {
          "output_type": "execute_result",
          "data": {
            "text/plain": [
              "array(['Cinco De Mayo', 'Easter', \"Father's day\", 'OrthodoxEaster', 'XXX'],\n",
              "      dtype=object)"
            ]
          },
          "metadata": {
            "tags": []
          },
          "execution_count": 28
        }
      ]
    },
    {
      "cell_type": "code",
      "metadata": {
        "id": "gmoPC1a4PpaX",
        "colab_type": "code",
        "outputId": "b7f568fb-9be4-442a-87c1-65d01b5542b8",
        "colab": {
          "base_uri": "https://localhost:8080/",
          "height": 52
        }
      },
      "source": [
        "encode_event_type_1"
      ],
      "execution_count": 0,
      "outputs": [
        {
          "output_type": "execute_result",
          "data": {
            "text/plain": [
              "array(['Cultural', 'National', 'Religious', 'Sporting', 'XXX'],\n",
              "      dtype=object)"
            ]
          },
          "metadata": {
            "tags": []
          },
          "execution_count": 29
        }
      ]
    },
    {
      "cell_type": "code",
      "metadata": {
        "id": "SAI7og6Fg7KZ",
        "colab_type": "code",
        "outputId": "a4a71340-8d1e-4765-edd9-78bdbdec0493",
        "colab": {
          "base_uri": "https://localhost:8080/",
          "height": 35
        }
      },
      "source": [
        "encode_event_type_2"
      ],
      "execution_count": 0,
      "outputs": [
        {
          "output_type": "execute_result",
          "data": {
            "text/plain": [
              "array(['Cultural', 'Religious', 'XXX'], dtype=object)"
            ]
          },
          "metadata": {
            "tags": []
          },
          "execution_count": 30
        }
      ]
    },
    {
      "cell_type": "code",
      "metadata": {
        "id": "yiUCr47dAbX_",
        "colab_type": "code",
        "colab": {}
      },
      "source": [
        "grid_df.to_pickle('../iwase_output/val/val_grid_part_3.pkl')"
      ],
      "execution_count": 0,
      "outputs": []
    },
    {
      "cell_type": "code",
      "metadata": {
        "id": "36zCgWcoAubX",
        "colab_type": "code",
        "colab": {}
      },
      "source": [
        ""
      ],
      "execution_count": 0,
      "outputs": []
    },
    {
      "cell_type": "markdown",
      "metadata": {
        "id": "8WREjDZdhJZf",
        "colab_type": "text"
      },
      "source": [
        "https://www.it-swarm.dev/ja/python/pandas%E3%82%AB%E3%83%86%E3%82%B4%E3%83%AA%E3%83%87%E3%83%BC%E3%82%BF%E3%81%ABnan%E3%82%92%E5%85%A5%E5%8A%9B%E3%81%99%E3%82%8B/1055392575/amp/\n",
        "\n",
        "\n",
        "categoryがないものをfillnaしようとすると、エラーが起きる\n"
      ]
    },
    {
      "cell_type": "code",
      "metadata": {
        "id": "-4Bd8OUShcnI",
        "colab_type": "code",
        "colab": {}
      },
      "source": [
        "# grid_df=pd.read_pickle('../iwase_output/val/val_grid_part_3.pkl')"
      ],
      "execution_count": 0,
      "outputs": []
    },
    {
      "cell_type": "code",
      "metadata": {
        "id": "HBOFHK78htmZ",
        "colab_type": "code",
        "colab": {}
      },
      "source": [
        "# grid_df"
      ],
      "execution_count": 0,
      "outputs": []
    },
    {
      "cell_type": "code",
      "metadata": {
        "id": "aIPXGBybhx7h",
        "colab_type": "code",
        "colab": {}
      },
      "source": [
        ""
      ],
      "execution_count": 0,
      "outputs": []
    }
  ]
}