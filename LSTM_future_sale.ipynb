{
  "nbformat": 4,
  "nbformat_minor": 0,
  "metadata": {
    "colab": {
      "name": "RNNでやってみた",
      "provenance": [],
      "mount_file_id": "1TmyuNYrIbG79QIxEYF4lYawVh2DwAxq7",
      "authorship_tag": "ABX9TyOy4sy6mUxt8KY3HRZhLFXR",
      "include_colab_link": true
    },
    "kernelspec": {
      "name": "python3",
      "display_name": "Python 3"
    }
  },
  "cells": [
    {
      "cell_type": "markdown",
      "metadata": {
        "id": "view-in-github",
        "colab_type": "text"
      },
      "source": [
        "<a href=\"https://colab.research.google.com/github/kojikokojiko/portfoilio/blob/master/LSTM_future_sale.ipynb\" target=\"_parent\"><img src=\"https://colab.research.google.com/assets/colab-badge.svg\" alt=\"Open In Colab\"/></a>"
      ]
    },
    {
      "cell_type": "code",
      "metadata": {
        "id": "koHc4qJdBZFL",
        "colab_type": "code",
        "colab": {
          "base_uri": "https://localhost:8080/",
          "height": 35
        },
        "outputId": "95d5f433-0013-48f7-e621-a55053f806d4"
      },
      "source": [
        "%cd /content/drive/My Drive/Colab Notebooks/Kaggle/Predict Future Sales"
      ],
      "execution_count": 1,
      "outputs": [
        {
          "output_type": "stream",
          "text": [
            "/content/drive/My Drive/Colab Notebooks/Kaggle/Predict Future Sales\n"
          ],
          "name": "stdout"
        }
      ]
    },
    {
      "cell_type": "code",
      "metadata": {
        "id": "rOg_FYRSBg7K",
        "colab_type": "code",
        "colab": {
          "base_uri": "https://localhost:8080/",
          "height": 90
        },
        "outputId": "0e194292-b95d-432e-fc52-27601158e908"
      },
      "source": [
        "import numpy as np\n",
        "import pandas as pd\n",
        "import matplotlib.pyplot as plt\n",
        "import seaborn as sns\n",
        "%matplotlib inline\n",
        "\n",
        "from keras.models import Sequential\n",
        "from keras.layers import LSTM, Dense, Activation, ThresholdedReLU, MaxPooling2D, Embedding, Dropout\n",
        "from keras.optimizers import Adam, SGD, RMSprop\n",
        "from keras import backend as K\n",
        "import keras\n"
      ],
      "execution_count": 2,
      "outputs": [
        {
          "output_type": "stream",
          "text": [
            "/usr/local/lib/python3.6/dist-packages/statsmodels/tools/_testing.py:19: FutureWarning: pandas.util.testing is deprecated. Use the functions in the public API at pandas.testing instead.\n",
            "  import pandas.util.testing as tm\n",
            "Using TensorFlow backend.\n"
          ],
          "name": "stderr"
        }
      ]
    },
    {
      "cell_type": "code",
      "metadata": {
        "id": "--dU4NmNBhs7",
        "colab_type": "code",
        "colab": {}
      },
      "source": [
        "items = pd.read_csv('./input/items.csv')\n",
        "shops = pd.read_csv('./input/shops.csv')\n",
        "cats = pd.read_csv('./input/item_categories.csv')\n",
        "sales= pd.read_csv('./input/sales_train.csv', parse_dates=['date'], infer_datetime_format=True, dayfirst=True)\n",
        "val  = pd.read_csv('./input/test.csv')"
      ],
      "execution_count": 0,
      "outputs": []
    },
    {
      "cell_type": "markdown",
      "metadata": {
        "id": "XJy6GCm7ErKG",
        "colab_type": "text"
      },
      "source": [
        "##月の売り上げ個数の時系列データを作る"
      ]
    },
    {
      "cell_type": "code",
      "metadata": {
        "id": "Sjx1tmK0Bjbl",
        "colab_type": "code",
        "colab": {}
      },
      "source": [
        "dataset_sales=sales.pivot_table(index=['shop_id','item_id'],values=['item_cnt_day'],columns=['date_block_num'],fill_value=0,aggfunc='sum')"
      ],
      "execution_count": 0,
      "outputs": []
    },
    {
      "cell_type": "code",
      "metadata": {
        "id": "mYdG50fNCbwL",
        "colab_type": "code",
        "colab": {}
      },
      "source": [
        "dataset_sales.reset_index(inplace = True)"
      ],
      "execution_count": 0,
      "outputs": []
    },
    {
      "cell_type": "code",
      "metadata": {
        "id": "k5ajhFstCkAp",
        "colab_type": "code",
        "colab": {
          "base_uri": "https://localhost:8080/",
          "height": 108
        },
        "outputId": "408fbff4-3975-41df-8db4-a09aae4a0e30"
      },
      "source": [
        "df_sales=pd.merge(val,dataset_sales,on=['shop_id','item_id'],how='left')"
      ],
      "execution_count": 6,
      "outputs": [
        {
          "output_type": "stream",
          "text": [
            "/usr/local/lib/python3.6/dist-packages/pandas/core/reshape/merge.py:618: UserWarning: merging between different levels can give an unintended result (1 levels on the left, 2 on the right)\n",
            "  warnings.warn(msg, UserWarning)\n",
            "/usr/local/lib/python3.6/dist-packages/pandas/core/generic.py:3936: PerformanceWarning: dropping on a non-lexsorted multi-index without a level parameter may impact performance.\n",
            "  obj = obj._drop_axis(labels, axis, level=level, errors=errors)\n"
          ],
          "name": "stderr"
        }
      ]
    },
    {
      "cell_type": "code",
      "metadata": {
        "id": "cL39iOzhDGiF",
        "colab_type": "code",
        "colab": {}
      },
      "source": [
        "df_sales.fillna(0,inplace=True)"
      ],
      "execution_count": 0,
      "outputs": []
    },
    {
      "cell_type": "code",
      "metadata": {
        "id": "6oITUDSHDj2F",
        "colab_type": "code",
        "colab": {}
      },
      "source": [
        "df_sales.drop(['shop_id','item_id','ID'],inplace = True, axis = 1)"
      ],
      "execution_count": 0,
      "outputs": []
    },
    {
      "cell_type": "markdown",
      "metadata": {
        "id": "VbJrFb00Ee3i",
        "colab_type": "text"
      },
      "source": [
        "##priceの月平均の時系列データをつくる"
      ]
    },
    {
      "cell_type": "code",
      "metadata": {
        "id": "ZOWt_WkbG_3x",
        "colab_type": "code",
        "colab": {}
      },
      "source": [
        "# スケールを0から1の間に収める\n",
        "from sklearn.preprocessing import MinMaxScaler\n",
        "scaler = MinMaxScaler(feature_range=(0, 1))\n",
        "sales[\"item_price\"] = scaler.fit_transform(sales[\"item_price\"].values.reshape(-1,1))"
      ],
      "execution_count": 0,
      "outputs": []
    },
    {
      "cell_type": "code",
      "metadata": {
        "id": "XQTXq68zEQ5c",
        "colab_type": "code",
        "colab": {}
      },
      "source": [
        "dataset_price=sales.pivot_table(index=['shop_id','item_id'],columns=['date_block_num'],values=['item_price'],aggfunc='mean').fillna(0).reset_index()"
      ],
      "execution_count": 0,
      "outputs": []
    },
    {
      "cell_type": "code",
      "metadata": {
        "id": "YQy_uX6TFbbG",
        "colab_type": "code",
        "colab": {
          "base_uri": "https://localhost:8080/",
          "height": 108
        },
        "outputId": "7915e07f-279f-472f-e193-d5a55e40cb41"
      },
      "source": [
        "df_price=pd.merge(val,dataset_price,on=['shop_id','item_id'],how='left')"
      ],
      "execution_count": 11,
      "outputs": [
        {
          "output_type": "stream",
          "text": [
            "/usr/local/lib/python3.6/dist-packages/pandas/core/reshape/merge.py:618: UserWarning: merging between different levels can give an unintended result (1 levels on the left, 2 on the right)\n",
            "  warnings.warn(msg, UserWarning)\n",
            "/usr/local/lib/python3.6/dist-packages/pandas/core/generic.py:3936: PerformanceWarning: dropping on a non-lexsorted multi-index without a level parameter may impact performance.\n",
            "  obj = obj._drop_axis(labels, axis, level=level, errors=errors)\n"
          ],
          "name": "stderr"
        }
      ]
    },
    {
      "cell_type": "code",
      "metadata": {
        "id": "QNwSQZa2Ph4R",
        "colab_type": "code",
        "colab": {}
      },
      "source": [
        "df_price.drop(['shop_id','item_id','ID'],inplace = True, axis = 1)"
      ],
      "execution_count": 0,
      "outputs": []
    },
    {
      "cell_type": "code",
      "metadata": {
        "id": "nYPo8wHmPz3G",
        "colab_type": "code",
        "colab": {}
      },
      "source": [
        "df_price.fillna(0,inplace=True)"
      ],
      "execution_count": 0,
      "outputs": []
    },
    {
      "cell_type": "markdown",
      "metadata": {
        "id": "1zuqrTwtdb5x",
        "colab_type": "text"
      },
      "source": [
        "## trainデータ作成"
      ]
    },
    {
      "cell_type": "code",
      "metadata": {
        "id": "gRg89MJVQXCm",
        "colab_type": "code",
        "colab": {}
      },
      "source": [
        "y_train=df_sales.iloc[:,-1]\n",
        "x_sales_train=df_sales.iloc[:,:-1]\n",
        "x_price_train=df_price.iloc[:,:-1]"
      ],
      "execution_count": 0,
      "outputs": []
    },
    {
      "cell_type": "code",
      "metadata": {
        "id": "R7C3rDPlQtD9",
        "colab_type": "code",
        "colab": {
          "base_uri": "https://localhost:8080/",
          "height": 35
        },
        "outputId": "40aa9ca4-f32d-4f45-b521-3140e43f74f4"
      },
      "source": [
        "x_price_train.values.shape"
      ],
      "execution_count": 15,
      "outputs": [
        {
          "output_type": "execute_result",
          "data": {
            "text/plain": [
              "(214200, 33)"
            ]
          },
          "metadata": {
            "tags": []
          },
          "execution_count": 15
        }
      ]
    },
    {
      "cell_type": "code",
      "metadata": {
        "id": "FYwpdHh3SMqC",
        "colab_type": "code",
        "colab": {}
      },
      "source": [
        "x_sales_train=x_sales_train.values.reshape((x_sales_train.shape[0],x_sales_train.shape[1],1))\n",
        "x_price_train=x_price_train.values.reshape((x_price_train.shape[0],x_price_train.shape[1],1))\n"
      ],
      "execution_count": 0,
      "outputs": []
    },
    {
      "cell_type": "code",
      "metadata": {
        "id": "r4mvJmuhWggT",
        "colab_type": "code",
        "colab": {
          "base_uri": "https://localhost:8080/",
          "height": 35
        },
        "outputId": "0dec5693-4b22-42c7-dd41-828f0423335d"
      },
      "source": [
        "x_sales_train.shape"
      ],
      "execution_count": 17,
      "outputs": [
        {
          "output_type": "execute_result",
          "data": {
            "text/plain": [
              "(214200, 33, 1)"
            ]
          },
          "metadata": {
            "tags": []
          },
          "execution_count": 17
        }
      ]
    },
    {
      "cell_type": "code",
      "metadata": {
        "id": "Ab03U3b9WihE",
        "colab_type": "code",
        "colab": {
          "base_uri": "https://localhost:8080/",
          "height": 35
        },
        "outputId": "6dbc578a-1ee3-436d-ca98-e0ec2e01fca7"
      },
      "source": [
        "x_price_train.shape"
      ],
      "execution_count": 18,
      "outputs": [
        {
          "output_type": "execute_result",
          "data": {
            "text/plain": [
              "(214200, 33, 1)"
            ]
          },
          "metadata": {
            "tags": []
          },
          "execution_count": 18
        }
      ]
    },
    {
      "cell_type": "code",
      "metadata": {
        "id": "cpSDf1WyWsQ2",
        "colab_type": "code",
        "colab": {
          "base_uri": "https://localhost:8080/",
          "height": 230
        },
        "outputId": "cfbde04f-4615-4537-b7ef-d1edf6462b45"
      },
      "source": [
        "y_train"
      ],
      "execution_count": 19,
      "outputs": [
        {
          "output_type": "execute_result",
          "data": {
            "text/plain": [
              "0         0.0\n",
              "1         0.0\n",
              "2         1.0\n",
              "3         0.0\n",
              "4         0.0\n",
              "         ... \n",
              "214195    1.0\n",
              "214196    0.0\n",
              "214197    0.0\n",
              "214198    0.0\n",
              "214199    0.0\n",
              "Name: (item_cnt_day, 33), Length: 214200, dtype: float64"
            ]
          },
          "metadata": {
            "tags": []
          },
          "execution_count": 19
        }
      ]
    },
    {
      "cell_type": "code",
      "metadata": {
        "id": "J5E9nFWVvtB2",
        "colab_type": "code",
        "colab": {
          "base_uri": "https://localhost:8080/",
          "height": 35
        },
        "outputId": "a64a951f-1ddd-4d9c-d6f5-368933da6431"
      },
      "source": [
        "y_train.shape"
      ],
      "execution_count": 44,
      "outputs": [
        {
          "output_type": "execute_result",
          "data": {
            "text/plain": [
              "(214200, 1)"
            ]
          },
          "metadata": {
            "tags": []
          },
          "execution_count": 44
        }
      ]
    },
    {
      "cell_type": "code",
      "metadata": {
        "id": "jNwhWEQ9XRWF",
        "colab_type": "code",
        "colab": {}
      },
      "source": [
        "y_train=y_train.values.reshape((214200,1))"
      ],
      "execution_count": 0,
      "outputs": []
    },
    {
      "cell_type": "code",
      "metadata": {
        "id": "chmfN716X_ZQ",
        "colab_type": "code",
        "colab": {}
      },
      "source": [
        "X_train=np.append(x_sales_train,x_price_train,axis=2)"
      ],
      "execution_count": 0,
      "outputs": []
    },
    {
      "cell_type": "code",
      "metadata": {
        "id": "73GMqReSYPhw",
        "colab_type": "code",
        "colab": {
          "base_uri": "https://localhost:8080/",
          "height": 35
        },
        "outputId": "04af2e04-3866-4d1f-e48e-bb82007202ad"
      },
      "source": [
        "X_train.shape"
      ],
      "execution_count": 22,
      "outputs": [
        {
          "output_type": "execute_result",
          "data": {
            "text/plain": [
              "(214200, 33, 2)"
            ]
          },
          "metadata": {
            "tags": []
          },
          "execution_count": 22
        }
      ]
    },
    {
      "cell_type": "markdown",
      "metadata": {
        "id": "gzwrpcU3eAVi",
        "colab_type": "text"
      },
      "source": [
        "##testデータ作成"
      ]
    },
    {
      "cell_type": "code",
      "metadata": {
        "id": "x7tsGL6TYRW9",
        "colab_type": "code",
        "colab": {}
      },
      "source": [
        "x_sales_test=df_sales.iloc[:,1:]\n",
        "x_price_test=df_price.iloc[:,1:]\n"
      ],
      "execution_count": 0,
      "outputs": []
    },
    {
      "cell_type": "code",
      "metadata": {
        "id": "s31XnuM4fH1R",
        "colab_type": "code",
        "colab": {}
      },
      "source": [
        "x_sales_test=np.expand_dims(x_sales_test.values,axis=2)"
      ],
      "execution_count": 0,
      "outputs": []
    },
    {
      "cell_type": "code",
      "metadata": {
        "id": "Me77isgIfx-2",
        "colab_type": "code",
        "colab": {}
      },
      "source": [
        "x_price_test=np.expand_dims(x_price_test.values,axis=2)"
      ],
      "execution_count": 0,
      "outputs": []
    },
    {
      "cell_type": "code",
      "metadata": {
        "id": "lcmUaGkQf0Bg",
        "colab_type": "code",
        "colab": {
          "base_uri": "https://localhost:8080/",
          "height": 35
        },
        "outputId": "e6b3e49b-4290-4c2b-8b8b-f5415702f928"
      },
      "source": [
        "x_price_test.shape"
      ],
      "execution_count": 31,
      "outputs": [
        {
          "output_type": "execute_result",
          "data": {
            "text/plain": [
              "(214200, 33, 1)"
            ]
          },
          "metadata": {
            "tags": []
          },
          "execution_count": 31
        }
      ]
    },
    {
      "cell_type": "code",
      "metadata": {
        "id": "g090iq2igD_i",
        "colab_type": "code",
        "colab": {}
      },
      "source": [
        "X_test=np.append(x_sales_test,x_price_test,axis=2)"
      ],
      "execution_count": 0,
      "outputs": []
    },
    {
      "cell_type": "markdown",
      "metadata": {
        "id": "yUr0Gbaks3Ih",
        "colab_type": "text"
      },
      "source": [
        "##model作成"
      ]
    },
    {
      "cell_type": "code",
      "metadata": {
        "id": "GiglojIHs24j",
        "colab_type": "code",
        "colab": {}
      },
      "source": [
        ""
      ],
      "execution_count": 0,
      "outputs": []
    },
    {
      "cell_type": "code",
      "metadata": {
        "id": "a6SkiOm3nQUI",
        "colab_type": "code",
        "colab": {
          "base_uri": "https://localhost:8080/",
          "height": 355
        },
        "outputId": "de9ef699-4010-4943-b03c-2e9916d3f2e7"
      },
      "source": [
        "model= Sequential()\n",
        "model.add(LSTM(64, input_shape=(X_train.shape[1], X_train.shape[2]),return_sequences=True))\n",
        "model.add(Dropout(0.5))\n",
        "model.add(LSTM(32))\n",
        "model.add(Dropout(0.5))\n",
        "model.add(Dense(1))\n",
        "model.compile(optimizer=\"adam\", loss='mse', metrics=[\"mse\"])\n",
        "print(model.summary())"
      ],
      "execution_count": 62,
      "outputs": [
        {
          "output_type": "stream",
          "text": [
            "Model: \"sequential_15\"\n",
            "_________________________________________________________________\n",
            "Layer (type)                 Output Shape              Param #   \n",
            "=================================================================\n",
            "lstm_16 (LSTM)               (None, 33, 64)            17152     \n",
            "_________________________________________________________________\n",
            "dropout_10 (Dropout)         (None, 33, 64)            0         \n",
            "_________________________________________________________________\n",
            "lstm_17 (LSTM)               (None, 32)                12416     \n",
            "_________________________________________________________________\n",
            "dropout_11 (Dropout)         (None, 32)                0         \n",
            "_________________________________________________________________\n",
            "dense_19 (Dense)             (None, 1)                 33        \n",
            "=================================================================\n",
            "Total params: 29,601\n",
            "Trainable params: 29,601\n",
            "Non-trainable params: 0\n",
            "_________________________________________________________________\n",
            "None\n"
          ],
          "name": "stdout"
        }
      ]
    },
    {
      "cell_type": "code",
      "metadata": {
        "id": "HXeH08bQn5L9",
        "colab_type": "code",
        "colab": {
          "base_uri": "https://localhost:8080/",
          "height": 301
        },
        "outputId": "d75037af-f0bf-48fc-c773-839a11a6629e"
      },
      "source": [
        "hist=model.fit(X_train,y_train,\n",
        "               batch_size=4096,\n",
        "               verbose=2,\n",
        "               epochs=8\n",
        "\n",
        "\n",
        "               )"
      ],
      "execution_count": 63,
      "outputs": [
        {
          "output_type": "stream",
          "text": [
            "Epoch 1/8\n",
            " - 90s - loss: 30.5197 - mse: 30.5197\n",
            "Epoch 2/8\n",
            " - 88s - loss: 30.3027 - mse: 30.3027\n",
            "Epoch 3/8\n",
            " - 88s - loss: 30.1328 - mse: 30.1328\n",
            "Epoch 4/8\n",
            " - 89s - loss: 30.0813 - mse: 30.0813\n",
            "Epoch 5/8\n",
            " - 92s - loss: 30.0556 - mse: 30.0556\n",
            "Epoch 6/8\n",
            " - 88s - loss: 29.9741 - mse: 29.9741\n",
            "Epoch 7/8\n",
            " - 88s - loss: 29.9296 - mse: 29.9296\n",
            "Epoch 8/8\n",
            " - 88s - loss: 29.9477 - mse: 29.9477\n"
          ],
          "name": "stdout"
        }
      ]
    },
    {
      "cell_type": "code",
      "metadata": {
        "id": "teXXd3z_svlN",
        "colab_type": "code",
        "colab": {}
      },
      "source": [
        "y_pred=model.predict(X_test).clip(0,20).round()"
      ],
      "execution_count": 0,
      "outputs": []
    },
    {
      "cell_type": "code",
      "metadata": {
        "id": "u822EyWWyvx3",
        "colab_type": "code",
        "colab": {}
      },
      "source": [
        "submission = pd.DataFrame(y_pred,columns=['item_cnt_month'])\n",
        "submission.to_csv('time_lstm2_round.csv',index_label='ID')"
      ],
      "execution_count": 0,
      "outputs": []
    },
    {
      "cell_type": "code",
      "metadata": {
        "id": "GW2ohC_Q4d6R",
        "colab_type": "code",
        "colab": {}
      },
      "source": [
        ""
      ],
      "execution_count": 0,
      "outputs": []
    }
  ]
}