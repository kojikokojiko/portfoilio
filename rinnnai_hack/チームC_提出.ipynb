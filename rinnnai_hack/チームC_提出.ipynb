{
 "cells": [
  {
   "cell_type": "markdown",
   "metadata": {},
   "source": [
    "# 1.前処理"
   ]
  },
  {
   "cell_type": "code",
   "execution_count": null,
   "metadata": {},
   "outputs": [],
   "source": [
    "import pandas as pd\n",
    "import pandas_profiling as pdp\n",
    "import matplotlib.pyplot as plt\n",
    "# % matplotlib inline\n",
    "import seaborn as sns\n",
    "import japanize_matplotlib\n",
    "# sns.set(font='IPAexGothic')\n",
    "sns.set()\n",
    "plt.rcParams['font.family']\n",
    "import datetime\n",
    "from numba import jit, f8, i8, b1, void,njit\n",
    "import plotly.graph_objects as go\n",
    "pd.set_option('display.max_rows', 1000)\n",
    "pd.set_option('display.max_columns', 100)"
   ]
  },
  {
   "cell_type": "markdown",
   "metadata": {},
   "source": [
    "## 1.1差分時間を算出"
   ]
  },
  {
   "cell_type": "code",
   "execution_count": null,
   "metadata": {},
   "outputs": [],
   "source": [
    "# testも同様に行う\n",
    "train=pd.read_csv(\"train.csv\", encoding=\"shift-jis\")"
   ]
  },
  {
   "cell_type": "code",
   "execution_count": null,
   "metadata": {},
   "outputs": [],
   "source": []
  },
  {
   "cell_type": "code",
   "execution_count": null,
   "metadata": {},
   "outputs": [],
   "source": [
    "# test2[\"day\"]=test2[\"時刻\"].map(lambda x:x.split(\"-\")[2].split(\"T\")[0])\n",
    "train[\"day\"]=train[\"時刻\"].map(lambda x:x.split(\"-\")[2].split(\"T\")[0])"
   ]
  },
  {
   "cell_type": "code",
   "execution_count": null,
   "metadata": {},
   "outputs": [],
   "source": [
    "\n",
    "# test2[\"hour\"]=test2[\"時刻\"].map(lambda x:x.split(\"-\")[2].split(\"T\")[1].split(\":\")[0])\n",
    "train[\"hour\"]=train[\"時刻\"].map(lambda x:x.split(\"-\")[2].split(\"T\")[1].split(\":\")[0])"
   ]
  },
  {
   "cell_type": "code",
   "execution_count": null,
   "metadata": {},
   "outputs": [],
   "source": [
    "\n",
    "# test2[\"min\"]=test2[\"時刻\"].map(lambda x:x.split(\"-\")[2].split(\"T\")[1].split(\":\")[1])\n",
    "train[\"min\"]=train[\"時刻\"].map(lambda x:x.split(\"-\")[2].split(\"T\")[1].split(\":\")[1])"
   ]
  },
  {
   "cell_type": "code",
   "execution_count": null,
   "metadata": {},
   "outputs": [],
   "source": [
    "# test2[\"second\"]=test2[\"時刻\"].map(lambda x:x.split(\"-\")[2].split(\"T\")[1].split(\":\")[2].split(\"Z\")[0])\n",
    "train[\"second\"]=train[\"時刻\"].map(lambda x:x.split(\"-\")[2].split(\"T\")[1].split(\":\")[2].split(\"Z\")[0])"
   ]
  },
  {
   "cell_type": "code",
   "execution_count": null,
   "metadata": {},
   "outputs": [],
   "source": [
    "train.to_csv(\"temp_train.csv\",index=False)\n"
   ]
  },
  {
   "cell_type": "code",
   "execution_count": null,
   "metadata": {},
   "outputs": [],
   "source": [
    "train=pd.read_csv(\"temp_train.csv\",parse_dates=[0])\n",
    "# test2=pd.read_csv(\"temp_test2.csv\",parse_dates=[0])"
   ]
  },
  {
   "cell_type": "code",
   "execution_count": null,
   "metadata": {},
   "outputs": [],
   "source": [
    "@jit\n",
    "def make_sabuntime(dataframe):\n",
    "    sabun_list=[]\n",
    "    time_df=dataframe[\"時刻\"]\n",
    "    for i in range(len(time_df)):\n",
    "        if(i==len(time_df)-1):\n",
    "            continue\n",
    "        sabun_time=time_df[i+1]-time_df[i]\n",
    "        sabun_list.append(sabun_time)\n",
    "    \n",
    "    return sabun_list"
   ]
  },
  {
   "cell_type": "code",
   "execution_count": null,
   "metadata": {},
   "outputs": [],
   "source": [
    "train_list=make_sabuntime(train)\n",
    "train_list.append(train_list[-1])\n",
    "\n",
    "train[\"sabun_time\"]=train_list"
   ]
  },
  {
   "cell_type": "code",
   "execution_count": null,
   "metadata": {},
   "outputs": [],
   "source": [
    "\n",
    "# 測定時間の差分を秒で数値化\n",
    "\n",
    "@jit\n",
    "def datetime_to_seconds(df):\n",
    "    \n",
    "    sabun_seconds_list=[]\n",
    "    \n",
    "    for i in range(len(df)):\n",
    "        \n",
    "\n",
    "        stos=float(str(df[\"sabun_time\"][i]).split(\" \")[2].split(\":\")[2])*1\n",
    "        mtos=float(str(df[\"sabun_time\"][i]).split(\" \")[2].split(\":\")[1])*60\n",
    "        htos=float(str(df[\"sabun_time\"][i]).split(\" \")[2].split(\":\")[0])*3600\n",
    "                   \n",
    "        sabun_seconds=stos+mtos+htos\n",
    "        sabun_seconds_list.append(sabun_seconds)\n",
    "    return sabun_seconds_list\n",
    "    \n",
    "    "
   ]
  },
  {
   "cell_type": "code",
   "execution_count": null,
   "metadata": {},
   "outputs": [],
   "source": [
    "train_ss_list=datetime_to_seconds(train)\n",
    "train[\"sabun_seconds\"]=train_ss_list"
   ]
  },
  {
   "cell_type": "code",
   "execution_count": null,
   "metadata": {},
   "outputs": [],
   "source": [
    "train.to_csv(\"train_ver2.csv\",index=False)"
   ]
  },
  {
   "cell_type": "markdown",
   "metadata": {},
   "source": [
    "## 1.2時間主軸からパイプ位置主軸"
   ]
  },
  {
   "cell_type": "code",
   "execution_count": null,
   "metadata": {},
   "outputs": [],
   "source": [
    "train=pd.read_csv(\"train_ver2.csv\")\n",
    "\n",
    "# 加えたいカラム処理\n",
    "train[\"隙間かけトーチ\"]=train[\"隙間位置\"]*train[\"トーチ位置\"]\n",
    "train[\"速度.m.sec.\"]=train[\"速度.m.min.\"]/60\n",
    "\n",
    "# いらないからむでりーと\n",
    "# del train[\"中央輝度.平均.\"],train[\"中央輝度.標準偏差.\"],train[\"輝度ムラ\"],train[\"速度.m.min.\"]\n",
    "del train[\"速度.m.min.\"]\n",
    "\n",
    "\n",
    "\n",
    "# 差分時間の小さすぎるものを削除。これ別にあってもよかった\n",
    "train=train[train[\"sabun_seconds\"]>0.05].reset_index()\n",
    "\n",
    "\n",
    "\n",
    "# 差分時間取得\n",
    "unique_sabun_list=np.array(train[\"sabun_seconds\"].value_counts().sort_index().index)\n",
    "# 1大きい差分時間（10秒以上）取得\n",
    "stop_sabun_list =unique_sabun_list[unique_sabun_list>10]\n",
    "train_stop_sabun_index=[]\n",
    "\n",
    "\n",
    "\n",
    "# 大きい差分時間のindex取得\n",
    "for i ,stop_sabun in enumerate(stop_sabun_list):\n",
    "#     でかい差分時間のunique数が1なので[0]にしてる\n",
    "    stop_sabun_index=train[train[\"sabun_seconds\"]==stop_sabun].index[0]\n",
    "    train_stop_sabun_index.append(stop_sabun_index)\n",
    "    \n",
    "# DFindexを昇順にソートする、implaceはtrue\n",
    "train_stop_sabun_index.sort()\n"
   ]
  },
  {
   "cell_type": "code",
   "execution_count": null,
   "metadata": {},
   "outputs": [],
   "source": [
    "# 外観verをちょっといじって作ってるので、変数名がちょっと変になってる。\n",
    "# true_gaikanは下流の値\n",
    "# sin_ture_gaikanは外観の値\n",
    "\n",
    "# これは渦流についての処理。外観についてもほぼ同様に行える\n",
    "\n",
    "@jit\n",
    "def calc():\n",
    "    \n",
    "    all_df=pd.DataFrame()\n",
    "    for k ,stop_index in enumerate(train_stop_sabun_index):\n",
    "        print(k)\n",
    "        if(k==0):\n",
    "            start_index=0\n",
    "            end_index=stop_index\n",
    "        else:\n",
    "            start_index=train_stop_sabun_index[k-1]\n",
    "            end_index=stop_index\n",
    "\n",
    "\n",
    "\n",
    "        temp_df=train.iloc[start_index:end_index]\n",
    "        temp_df=temp_df[50:].reset_index()\n",
    "        print(len(temp_df))\n",
    "#         if(len(temp_df)<500):\n",
    "#             continue\n",
    "\n",
    "\n",
    "\n",
    "    #     積算時間の処理\n",
    "\n",
    "        true_gaikan_list=[]\n",
    "        sin_true_gaikan_list=[]\n",
    "        flag=False\n",
    "        for i in range(len(temp_df)):\n",
    "            sum_len=0.0\n",
    "    #         この下のlen(temp_df)には特に意味はない。いっぱい回したいってだけ\n",
    "            another_flag=False\n",
    "            for j in range(len(temp_df)):\n",
    "                if(i+j>len(temp_df)-1):\n",
    "                    flag=True\n",
    "                    break\n",
    "                    \n",
    "#                 print(i)\n",
    "                time=temp_df[\"sabun_seconds\"][i+j]\n",
    "#                 print(\"dfdf\")\n",
    "                speed=temp_df[\"速度.m.sec.\"][i+j]\n",
    "                delta_len=time*speed*1000\n",
    "    #             長さはミリで考えることにする\n",
    "    # 大体一行で13ミリ進む\n",
    "    \n",
    "    \n",
    "                \n",
    "                sum_len+=delta_len\n",
    "            \n",
    "#                 another_flagがTrueの時は、sin_gaikan_indexを保持し続ける\n",
    "                if(another_flag==False):\n",
    "                    if(sum_len>158.0-6.5):\n",
    "                        sin_gaikan_index=j\n",
    "                        another_flag=True\n",
    "\n",
    "            \n",
    "            \n",
    "                if (sum_len>3449.7-6.5):\n",
    "                    get_index=j\n",
    "                    break\n",
    "                if(sum_len>3449.7):\n",
    "                    get_index=j\n",
    "                    break\n",
    "\n",
    "\n",
    "                    \n",
    "            if flag:\n",
    "                true_gaikan=-1\n",
    "                sin_true_gaikn=-1\n",
    "            else:\n",
    "                true_gaikan=temp_df[\"渦流OK.NG\"][i+j]\n",
    "                sin_true_gaikn=temp_df[\"外観OK.NG\"][i+sin_gaikan_index]\n",
    "\n",
    "            true_gaikan_list.append(true_gaikan)\n",
    "            sin_true_gaikan_list.append(sin_true_gaikn)\n",
    "        print(len(true_gaikan_list))\n",
    "#         print(true_gaikan_list)\n",
    "        temp_df[\"真外観OK.NG\"]=sin_true_gaikan_list\n",
    "        temp_df[\"真渦流OK.NG\"]=true_gaikan_list\n",
    "#         temp_df[\"真外観OK.NG\"]=sin_true_gaikan_list\n",
    "    \n",
    "#         temp_df=temp_df.assign(gaikan=true_gaikan_list)\n",
    "\n",
    "    #     全体のDataFrameと結合\n",
    "        all_df=pd.concat([all_df,temp_df])\n",
    "#         print(all_df)\n",
    "        print(len(all_df))\n",
    "    return all_df\n",
    "\n",
    "    # 最後のきりぬきを加える\n",
    "\n",
    "\n",
    "\n"
   ]
  },
  {
   "cell_type": "code",
   "execution_count": null,
   "metadata": {},
   "outputs": [],
   "source": [
    "all_df=calc()"
   ]
  },
  {
   "cell_type": "code",
   "execution_count": null,
   "metadata": {},
   "outputs": [],
   "source": [
    "# 冗長ですみません\n",
    "# 最後のところを結合\n",
    "start_index=train_stop_sabun_index[-1]\n",
    "\n",
    "temp_df=train.iloc[start_index:-1]\n",
    "temp_df=temp_df[50:].reset_index()\n",
    "print(len(temp_df))\n",
    "\n",
    "\n",
    "#     積算時間の処理\n",
    "\n",
    "true_gaikan_list=[]\n",
    "sin_true_gaikan_list=[]\n",
    "flag=False\n",
    "for i in range(len(temp_df)):\n",
    "    sum_len=0.0\n",
    "#         この下のlen(temp_df)には特に意味はない。いっぱい回したいってだけ\n",
    "    another_flag=False\n",
    "    for j in range(len(temp_df)):\n",
    "        if(i+j>len(temp_df)-1):\n",
    "            flag=True\n",
    "            break\n",
    "\n",
    "#                 print(i)\n",
    "        time=temp_df[\"sabun_seconds\"][i+j]\n",
    "#                 print(\"dfdf\")\n",
    "        speed=temp_df[\"速度.m.sec.\"][i+j]\n",
    "        delta_len=time*speed*1000\n",
    "#             長さはミリで考えることにする\n",
    "# 大体一行で13ミリ進む\n",
    "\n",
    "\n",
    "\n",
    "        sum_len+=delta_len\n",
    "\n",
    "#                 another_flagがTrueの時は、sin_gaikan_indexを保持し続ける\n",
    "        if(another_flag==False):\n",
    "            if(sum_len>158.0-6.5):\n",
    "                sin_gaikan_index=j\n",
    "                another_flag=True\n",
    "\n",
    "\n",
    "\n",
    "        if (sum_len>3449.7-6.5):\n",
    "            get_index=j\n",
    "            break\n",
    "        if(sum_len>3449.7):\n",
    "            get_index=j\n",
    "            break\n",
    "\n",
    "\n",
    "\n",
    "    if flag:\n",
    "        true_gaikan=-1\n",
    "        sin_true_gaikn=-1\n",
    "    else:\n",
    "        true_gaikan=temp_df[\"渦流OK.NG\"][i+j]\n",
    "        sin_true_gaikn=temp_df[\"外観OK.NG\"][i+sin_gaikan_index]\n",
    "\n",
    "    true_gaikan_list.append(true_gaikan)\n",
    "    sin_true_gaikan_list.append(sin_true_gaikn)\n",
    "print(len(true_gaikan_list))\n",
    "#         print(true_gaikan_list)\n",
    "temp_df[\"真外観OK.NG\"]=sin_true_gaikan_list\n",
    "temp_df[\"真渦流OK.NG\"]=true_gaikan_list\n",
    "#         temp_df[\"真外観OK.NG\"]=sin_true_gaikan_list\n",
    "\n",
    "\n",
    "#     全体のDataFrameと結合\n",
    "final_all_df=pd.concat([all_df,temp_df])"
   ]
  },
  {
   "cell_type": "code",
   "execution_count": null,
   "metadata": {},
   "outputs": [],
   "source": [
    "final_all_df.to_csv(\"真karyu_ver2.csv\",index=False)"
   ]
  },
  {
   "cell_type": "code",
   "execution_count": null,
   "metadata": {},
   "outputs": [],
   "source": []
  },
  {
   "cell_type": "markdown",
   "metadata": {},
   "source": [
    "２モデルの構築"
   ]
  },
  {
   "cell_type": "code",
   "execution_count": null,
   "metadata": {},
   "outputs": [],
   "source": [
    "#!pip install japanize-matplotlib\n",
    "import japanize_matplotlib\n",
    "#!pip install eli5\n",
    "import eli5\n",
    "from eli5.sklearn import PermutationImportance"
   ]
  },
  {
   "cell_type": "code",
   "execution_count": null,
   "metadata": {},
   "outputs": [],
   "source": [
    "import numpy as np\n",
    "import lightgbm as lgb\n",
    "import time\n",
    "\n",
    "from sklearn.model_selection import train_test_split"
   ]
  },
  {
   "cell_type": "markdown",
   "metadata": {},
   "source": [
    "2.1必要なデータの抽出"
   ]
  },
  {
   "cell_type": "code",
   "execution_count": null,
   "metadata": {},
   "outputs": [],
   "source": [
    "#渦流OK.NGを予測するモデルの構築過程を以下に示す。\n",
    "#1で外観に関して処理されたデータフレームを用いれば、外観OK.NGを予測するモデルも同様に構築できる\n",
    "\n",
    "\n",
    "#上で作られた\"真karyu_ver2.csv\"から必要な特徴量を取り出す\n",
    "\n",
    "df_k = pd.read_csv(\"../真karyu_ver2.csv\")\n",
    "df_k = df_k.dropna()\n",
    "df_k = df_k[df_k[\"真外観OK.NG\"] != -1]\n",
    "df_k = df_k[df_k[\"真渦流OK.NG\"] != -1]\n",
    "df_k = df_k.iloc[:,10:]\n",
    "df_k = df_k.drop(df_k.columns[[6,7,9,10,11,12,13,14,15,16,17,19]], axis=1)\n",
    "\n",
    "#説明変数を読み込む\n",
    "X_k = df_k.iloc[:,:9]\n",
    "\n",
    "# 目的変数を読み込む\n",
    "Y_k = df_k.iloc[:,-1]\n"
   ]
  },
  {
   "cell_type": "markdown",
   "metadata": {},
   "source": [
    "2.2予測モデルの構築"
   ]
  },
  {
   "cell_type": "code",
   "execution_count": null,
   "metadata": {},
   "outputs": [],
   "source": [
    "# LightGBMの分類器をインスタンス化\n",
    "gbm = lgb.LGBMClassifier(\n",
    "    boosting_type= 'gbdt',\n",
    "    objective= 'binary',\n",
    "    num_leaves= 128,\n",
    "    min_child_samples= 20,\n",
    "    max_depth= 9,\n",
    "    n_estimators = 1000\n",
    ")\n",
    "\n",
    "# 訓練データと検証データに分ける\n",
    "X_train_k, X_val_k, Y_train_k, Y_val_k = train_test_split(X_k, Y_k, stratify=Y_k, random_state=0,test_size=0.2)\n",
    "\n",
    "\n",
    "#訓練データ、検証データを用いた学習\n",
    "gbm.fit(X_train_k, Y_train_k, eval_set=[(X_val_k, Y_val_k)], eval_metric=\"binary_logloss\", verbose=1, early_stopping_rounds=50 )\n",
    "\n",
    "#最も適切なモデルでのテストデータ(X_test_k)に対する渦流OK.NGの予測\n",
    "y_pred_k = gbm.predict(X_test_k, num_iteration = gbm.best_iteration_)"
   ]
  },
  {
   "cell_type": "markdown",
   "metadata": {},
   "source": [
    "2.3重要度(Permutation Importance)の可視化"
   ]
  },
  {
   "cell_type": "code",
   "execution_count": null,
   "metadata": {},
   "outputs": [],
   "source": [
    "permutation_importance = PermutationImportance(gbm, random_state=0).fit(X_train_k, Y_train_k)\n",
    "eli5.show_weights(permutation_importance, feature_names=X_train_k.columns.tolist())"
   ]
  }
 ],
 "metadata": {
  "kernelspec": {
   "display_name": "Python 3",
   "language": "python",
   "name": "python3"
  },
  "language_info": {
   "codemirror_mode": {
    "name": "ipython",
    "version": 3
   },
   "file_extension": ".py",
   "mimetype": "text/x-python",
   "name": "python",
   "nbconvert_exporter": "python",
   "pygments_lexer": "ipython3",
   "version": "3.8.3"
  }
 },
 "nbformat": 4,
 "nbformat_minor": 4
}
